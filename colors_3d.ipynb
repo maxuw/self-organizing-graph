{
 "cells": [
  {
   "cell_type": "code",
   "execution_count": 1,
   "metadata": {},
   "outputs": [],
   "source": [
    "import torch\n",
    "import torch.utils.data"
   ]
  },
  {
   "cell_type": "code",
   "execution_count": 2,
   "metadata": {},
   "outputs": [],
   "source": [
    "import numpy as np\n",
    "import matplotlib.pyplot as plt"
   ]
  },
  {
   "cell_type": "code",
   "execution_count": 3,
   "metadata": {},
   "outputs": [],
   "source": [
    "from map_class import MapClass"
   ]
  },
  {
   "cell_type": "code",
   "execution_count": 4,
   "metadata": {},
   "outputs": [],
   "source": [
    "#Training inputs for RGBcolors\n",
    "rgb_colors = [[0., 0., 0.],\n",
    "      [0., 0., 1.],\n",
    "      [0., 0., 0.5],\n",
    "      [0.125, 0.529, 1.0],\n",
    "      [0.33, 0.4, 0.67],\n",
    "      [0.6, 0.5, 1.0],\n",
    "      [0., 1., 0.],\n",
    "      [1., 0., 0.],\n",
    "      [0., 1., 1.],\n",
    "      [1., 0., 1.],\n",
    "      [1., 1., 0.],\n",
    "      [1., 1., 1.],\n",
    "      [.33, .33, .33],\n",
    "      [.5, .5, .5],\n",
    "      [.66, .66, .66]]"
   ]
  },
  {
   "cell_type": "code",
   "execution_count": 5,
   "metadata": {},
   "outputs": [],
   "source": [
    "color_names = \\\n",
    "    ['black', 'blue', 'darkblue', 'skyblue',\n",
    "     'greyblue', 'lilac', 'green', 'red',\n",
    "     'cyan', 'violet', 'yellow', 'white',\n",
    "     'darkgrey', 'mediumgrey', 'lightgrey']"
   ]
  },
  {
   "cell_type": "code",
   "execution_count": 6,
   "metadata": {},
   "outputs": [],
   "source": [
    "#buildings data\n",
    "building_sizes = [[0.1, 0.3], [0.1, 0.2], [1., 1.], [0.125, 0.2], [0.529, 0.12], [1.0, 0.3], [0.33, 0.3], \n",
    "                  [0.4, 0.4], [0.67, 0.3], [.33, 0.7], [.5, 0.1]]\n",
    "#     torch.rand((10))"
   ]
  },
  {
   "cell_type": "code",
   "execution_count": 7,
   "metadata": {},
   "outputs": [],
   "source": [
    "#gray colors data\n",
    "gray_colors = [[0.1], [0.], [1.], [0.125], [0.529], [1.0], [0.33], [0.4], [0.67], [.33], [.5]]\n",
    "#     torch.rand((10))"
   ]
  },
  {
   "cell_type": "code",
   "execution_count": 21,
   "metadata": {
    "lines_to_next_cell": 0
   },
   "outputs": [],
   "source": [
    "# Network configuration\n",
    "\n",
    "data = rgb_colors\n",
    "batch_size = 4\n",
    "\n",
    "length = 10\n",
    "width = 10\n",
    "number_iterations = 20\n",
    "\n",
    "move_closer_coef = 0.1"
   ]
  },
  {
   "cell_type": "code",
   "execution_count": 9,
   "metadata": {},
   "outputs": [],
   "source": [
    "trainloader = \"\"\n",
    "\n",
    "def load_data(data, batch_size=4, shuffle=False):\n",
    "    dim = len(data[0])\n",
    "    number_rows_data = len(data)\n",
    "    \n",
    "    trainloader = torch.utils.data.DataLoader(data, batch_size=batch_size, shuffle=True)\n",
    "    \n",
    "    return trainloader, dim, number_rows_data"
   ]
  },
  {
   "cell_type": "code",
   "execution_count": 10,
   "metadata": {},
   "outputs": [],
   "source": [
    "def large_cycle(map_, training_data):\n",
    "    basic_visualization(map_display(map_.map))\n",
    "    print(map_display(map_.map))\n",
    "    for i in range(number_iterations):\n",
    "        cycle(map_, training_data)\n",
    "    basic_visualization(map_display(map_.map))\n",
    "    print(map_display(map_.map))"
   ]
  },
  {
   "cell_type": "code",
   "execution_count": 11,
   "metadata": {},
   "outputs": [],
   "source": [
    "def large_cycle_rgb(map_, training_data):\n",
    "    visualize_rgb(map_)\n",
    "#     print(map_display(map_.map))\n",
    "    for i in range(number_iterations):\n",
    "        map_.cycle(training_data)\n",
    "    visualize_rgb(map_)\n",
    "#     print(map_display(map_.map))"
   ]
  },
  {
   "cell_type": "code",
   "execution_count": 12,
   "metadata": {},
   "outputs": [],
   "source": [
    "def visualize_rgb(map_):\n",
    "    print(\"trying to visualize map\")\n",
    "    tens_try = map_.weights.view(length, width, 3)\n",
    "    plt.imshow(tens_try)\n",
    "\n",
    "    classification = map_.classify_all(map_.convert_data_tensor(data))\n",
    "    for i in range(len(classification)):\n",
    "        loc_tuple = map_.get_location(classification[i])\n",
    "        plt.text(loc_tuple[1], loc_tuple[0], color_names[i], ha='center', va='center',\n",
    "        bbox=dict(facecolor='white', alpha=0.5, lw=0))\n",
    "\n",
    "# plt.text(0, 1, color_names[1], ha='center', va='center',\n",
    "#          bbox=dict(facecolor='white', alpha=0.5, lw=0))\n",
    "    plt.show()"
   ]
  },
  {
   "cell_type": "code",
   "execution_count": null,
   "metadata": {},
   "outputs": [],
   "source": []
  },
  {
   "cell_type": "code",
   "execution_count": 22,
   "metadata": {},
   "outputs": [],
   "source": [
    "training, dim, number_rows_data = load_data(data)"
   ]
  },
  {
   "cell_type": "code",
   "execution_count": 33,
   "metadata": {},
   "outputs": [],
   "source": [
    "map1 = MapClass(length, width, dim, move_closer_coef, number_iterations)"
   ]
  },
  {
   "cell_type": "code",
   "execution_count": 34,
   "metadata": {},
   "outputs": [
    {
     "name": "stdout",
     "output_type": "stream",
     "text": [
      "trying to visualize map\n"
     ]
    },
    {
     "data": {
      "image/png": "[encoded data removed]",
      "text/plain": [
       "<Figure size 900x600 with 1 Axes>"
      ]
     },
     "metadata": {
      "needs_background": "light"
     },
     "output_type": "display_data"
    },
    {
     "name": "stdout",
     "output_type": "stream",
     "text": [
      "trying to visualize map\n"
     ]
    },
    {
     "data": {
      "image/png": "[encoded data removed]",
      "text/plain": [
       "<Figure size 900x600 with 1 Axes>"
      ]
     },
     "metadata": {
      "needs_background": "light"
     },
     "output_type": "display_data"
    }
   ],
   "source": [
    "plt.rcParams['figure.dpi'] = 150\n",
    "large_cycle_rgb(map1, training)"
   ]
  },
  {
   "cell_type": "code",
   "execution_count": 16,
   "metadata": {},
   "outputs": [
    {
     "data": {
      "text/plain": [
       "tensor([[0.1743, 0.8230, 0.7399],\n",
       "        [0.0178, 0.9673, 0.9697],\n",
       "        [0.0717, 0.8206, 0.7524],\n",
       "        [0.1123, 0.6086, 0.6246],\n",
       "        [0.1684, 0.5328, 0.3827],\n",
       "        [0.1830, 0.3657, 0.3814],\n",
       "        [0.0676, 0.1407, 0.4804],\n",
       "        [0.0484, 0.0855, 0.6250],\n",
       "        [0.0078, 0.0128, 0.8392],\n",
       "        [0.0601, 0.0920, 0.8123],\n",
       "        [0.2290, 0.8942, 0.7357],\n",
       "        [0.1349, 0.7601, 0.7498],\n",
       "        [0.1322, 0.7810, 0.5788],\n",
       "        [0.1143, 0.5842, 0.4399],\n",
       "        [0.1086, 0.3765, 0.3392],\n",
       "        [0.1283, 0.2550, 0.2659],\n",
       "        [0.1111, 0.1491, 0.3271],\n",
       "        [0.1024, 0.1193, 0.5008],\n",
       "        [0.0742, 0.0925, 0.6829],\n",
       "        [0.1086, 0.1363, 0.7498],\n",
       "        [0.3090, 0.7336, 0.6115],\n",
       "        [0.2543, 0.6340, 0.5711],\n",
       "        [0.2261, 0.6130, 0.4749],\n",
       "        [0.1654, 0.5063, 0.3309],\n",
       "        [0.1774, 0.3143, 0.2864],\n",
       "        [0.1247, 0.1703, 0.1727],\n",
       "        [0.1332, 0.1850, 0.2394],\n",
       "        [0.1470, 0.1709, 0.4043],\n",
       "        [0.1521, 0.1735, 0.5943],\n",
       "        [0.1892, 0.2280, 0.6942],\n",
       "        [0.3680, 0.6252, 0.6041],\n",
       "        [0.2975, 0.5390, 0.5772],\n",
       "        [0.2650, 0.5378, 0.4524],\n",
       "        [0.2747, 0.4130, 0.3565],\n",
       "        [0.2748, 0.3377, 0.3106],\n",
       "        [0.2540, 0.2743, 0.2577],\n",
       "        [0.2553, 0.1966, 0.2666],\n",
       "        [0.2402, 0.1981, 0.3476],\n",
       "        [0.2408, 0.2151, 0.5059],\n",
       "        [0.2839, 0.2541, 0.6067],\n",
       "        [0.4737, 0.5159, 0.6250],\n",
       "        [0.4369, 0.5140, 0.5828],\n",
       "        [0.3932, 0.4076, 0.4725],\n",
       "        [0.3408, 0.3631, 0.3543],\n",
       "        [0.3423, 0.3377, 0.3605],\n",
       "        [0.3235, 0.3280, 0.3079],\n",
       "        [0.3702, 0.2499, 0.2551],\n",
       "        [0.4265, 0.2005, 0.3081],\n",
       "        [0.4550, 0.2570, 0.4467],\n",
       "        [0.3796, 0.3673, 0.4684],\n",
       "        [0.5486, 0.5084, 0.7573],\n",
       "        [0.5508, 0.4414, 0.6281],\n",
       "        [0.4587, 0.4289, 0.5644],\n",
       "        [0.3996, 0.4326, 0.4348],\n",
       "        [0.3719, 0.3710, 0.3229],\n",
       "        [0.4431, 0.3125, 0.2802],\n",
       "        [0.5159, 0.2458, 0.2315],\n",
       "        [0.6496, 0.1094, 0.1649],\n",
       "        [0.6036, 0.2518, 0.2886],\n",
       "        [0.5514, 0.2582, 0.3817],\n",
       "        [0.6180, 0.4585, 0.8787],\n",
       "        [0.6211, 0.4988, 0.7979],\n",
       "        [0.5183, 0.4232, 0.6397],\n",
       "        [0.5164, 0.4854, 0.4831],\n",
       "        [0.5582, 0.4104, 0.4040],\n",
       "        [0.5056, 0.3422, 0.3194],\n",
       "        [0.6461, 0.2431, 0.2055],\n",
       "        [0.6773, 0.2109, 0.2585],\n",
       "        [0.7193, 0.3728, 0.2992],\n",
       "        [0.7864, 0.3427, 0.5054],\n",
       "        [0.6000, 0.5000, 1.0000],\n",
       "        [0.6181, 0.4983, 0.8632],\n",
       "        [0.5752, 0.4590, 0.7453],\n",
       "        [0.5825, 0.5053, 0.5104],\n",
       "        [0.6946, 0.5358, 0.2725],\n",
       "        [0.7147, 0.4821, 0.1653],\n",
       "        [0.7149, 0.4949, 0.1914],\n",
       "        [0.8451, 0.3765, 0.2394],\n",
       "        [0.8342, 0.5115, 0.4249],\n",
       "        [0.8017, 0.6544, 0.6058],\n",
       "        [0.6223, 0.4986, 0.8946],\n",
       "        [0.6287, 0.5291, 0.8130],\n",
       "        [0.7209, 0.5653, 0.6487],\n",
       "        [0.6495, 0.7015, 0.4533],\n",
       "        [0.8464, 0.6589, 0.2690],\n",
       "        [0.9026, 0.7728, 0.0758],\n",
       "        [0.7720, 0.6904, 0.1131],\n",
       "        [0.7720, 0.6954, 0.4011],\n",
       "        [0.8189, 0.7243, 0.5102],\n",
       "        [0.9754, 0.8324, 0.7480],\n",
       "        [0.6405, 0.5976, 0.7859],\n",
       "        [0.6184, 0.6062, 0.7735],\n",
       "        [0.6039, 0.6075, 0.6223],\n",
       "        [0.7795, 0.6610, 0.5246],\n",
       "        [0.6830, 0.8095, 0.1836],\n",
       "        [0.7885, 0.7869, 0.1301],\n",
       "        [0.7811, 0.6107, 0.2565],\n",
       "        [0.7521, 0.7412, 0.4974],\n",
       "        [0.8222, 0.7064, 0.6433],\n",
       "        [0.8976, 0.8403, 0.8274]])"
      ]
     },
     "execution_count": 16,
     "metadata": {},
     "output_type": "execute_result"
    }
   ],
   "source": [
    "map1.weights"
   ]
  },
  {
   "cell_type": "code",
   "execution_count": 17,
   "metadata": {},
   "outputs": [],
   "source": [
    "map1.cycle(training)"
   ]
  },
  {
   "cell_type": "code",
   "execution_count": 18,
   "metadata": {},
   "outputs": [
    {
     "data": {
      "text/plain": [
       "tensor([[ 0.0000,  1.0000,  2.0000,  ..., 11.4018, 12.0416, 12.7279],\n",
       "        [ 1.0000,  0.0000,  1.0000,  ..., 10.8167, 11.4018, 12.0416],\n",
       "        [ 2.0000,  1.0000,  0.0000,  ..., 10.2956, 10.8167, 11.4018],\n",
       "        ...,\n",
       "        [11.4018, 10.8167, 10.2956,  ...,  0.0000,  1.0000,  2.0000],\n",
       "        [12.0416, 11.4018, 10.8167,  ...,  1.0000,  0.0000,  1.0000],\n",
       "        [12.7279, 12.0416, 11.4018,  ...,  2.0000,  1.0000,  0.0000]])"
      ]
     },
     "execution_count": 18,
     "metadata": {},
     "output_type": "execute_result"
    }
   ],
   "source": [
    "map1.distance_matrix"
   ]
  },
  {
   "cell_type": "code",
   "execution_count": 19,
   "metadata": {},
   "outputs": [
    {
     "data": {
      "text/plain": [
       "tensor([[1.0000e+00, 6.8916e-01, 4.2371e-01,  ..., 5.1260e-06, 1.4901e-06,\n",
       "         3.5763e-07],\n",
       "        [6.8916e-01, 1.0000e+00, 6.8916e-01,  ..., 1.5140e-05, 5.1260e-06,\n",
       "         1.4901e-06],\n",
       "        [4.2371e-01, 6.8916e-01, 1.0000e+00,  ..., 3.8207e-05, 1.5140e-05,\n",
       "         5.1260e-06],\n",
       "        ...,\n",
       "        [5.1260e-06, 1.5140e-05, 3.8207e-05,  ..., 1.0000e+00, 6.8916e-01,\n",
       "         4.2371e-01],\n",
       "        [1.4901e-06, 5.1260e-06, 1.5140e-05,  ..., 6.8916e-01, 1.0000e+00,\n",
       "         6.8916e-01],\n",
       "        [3.5763e-07, 1.4901e-06, 5.1260e-06,  ..., 4.2371e-01, 6.8916e-01,\n",
       "         1.0000e+00]])"
      ]
     },
     "execution_count": 19,
     "metadata": {},
     "output_type": "execute_result"
    }
   ],
   "source": [
    "map1.impact_matrix"
   ]
  },
  {
   "cell_type": "code",
   "execution_count": null,
   "metadata": {},
   "outputs": [],
   "source": []
  },
  {
   "cell_type": "code",
   "execution_count": 20,
   "metadata": {},
   "outputs": [
    {
     "name": "stdout",
     "output_type": "stream",
     "text": [
      "trying to visualize map\n"
     ]
    },
    {
     "ename": "AttributeError",
     "evalue": "'Tensor' object has no attribute 'weights'",
     "output_type": "error",
     "traceback": [
      "\u001b[0;31m---------------------------------------------------------------------------\u001b[0m",
      "\u001b[0;31mAttributeError\u001b[0m                            Traceback (most recent call last)",
      "\u001b[0;32m<ipython-input-20-c9ff6ac82840>\u001b[0m in \u001b[0;36m<module>\u001b[0;34m\u001b[0m\n\u001b[0;32m----> 1\u001b[0;31m \u001b[0mvisualize_rgb\u001b[0m\u001b[0;34m(\u001b[0m\u001b[0mmap1\u001b[0m\u001b[0;34m.\u001b[0m\u001b[0mweights\u001b[0m\u001b[0;34m)\u001b[0m\u001b[0;34m\u001b[0m\u001b[0;34m\u001b[0m\u001b[0m\n\u001b[0m",
      "\u001b[0;32m<ipython-input-12-6090c398f9e5>\u001b[0m in \u001b[0;36mvisualize_rgb\u001b[0;34m(map_)\u001b[0m\n\u001b[1;32m      1\u001b[0m \u001b[0;32mdef\u001b[0m \u001b[0mvisualize_rgb\u001b[0m\u001b[0;34m(\u001b[0m\u001b[0mmap_\u001b[0m\u001b[0;34m)\u001b[0m\u001b[0;34m:\u001b[0m\u001b[0;34m\u001b[0m\u001b[0;34m\u001b[0m\u001b[0m\n\u001b[1;32m      2\u001b[0m     \u001b[0mprint\u001b[0m\u001b[0;34m(\u001b[0m\u001b[0;34m\"trying to visualize map\"\u001b[0m\u001b[0;34m)\u001b[0m\u001b[0;34m\u001b[0m\u001b[0;34m\u001b[0m\u001b[0m\n\u001b[0;32m----> 3\u001b[0;31m     \u001b[0mtens_try\u001b[0m \u001b[0;34m=\u001b[0m \u001b[0mmap_\u001b[0m\u001b[0;34m.\u001b[0m\u001b[0mweights\u001b[0m\u001b[0;34m.\u001b[0m\u001b[0mview\u001b[0m\u001b[0;34m(\u001b[0m\u001b[0mlength\u001b[0m\u001b[0;34m,\u001b[0m \u001b[0mwidth\u001b[0m\u001b[0;34m,\u001b[0m \u001b[0;36m3\u001b[0m\u001b[0;34m)\u001b[0m\u001b[0;34m\u001b[0m\u001b[0;34m\u001b[0m\u001b[0m\n\u001b[0m\u001b[1;32m      4\u001b[0m     \u001b[0mplt\u001b[0m\u001b[0;34m.\u001b[0m\u001b[0mimshow\u001b[0m\u001b[0;34m(\u001b[0m\u001b[0mtens_try\u001b[0m\u001b[0;34m)\u001b[0m\u001b[0;34m\u001b[0m\u001b[0;34m\u001b[0m\u001b[0m\n\u001b[1;32m      5\u001b[0m \u001b[0;34m\u001b[0m\u001b[0m\n",
      "\u001b[0;31mAttributeError\u001b[0m: 'Tensor' object has no attribute 'weights'"
     ]
    }
   ],
   "source": [
    "visualize_rgb(map1.weights)"
   ]
  },
  {
   "cell_type": "code",
   "execution_count": null,
   "metadata": {},
   "outputs": [],
   "source": [
    "\n",
    "classification"
   ]
  },
  {
   "cell_type": "code",
   "execution_count": null,
   "metadata": {},
   "outputs": [],
   "source": [
    "\n",
    "    \n",
    "    "
   ]
  },
  {
   "cell_type": "code",
   "execution_count": null,
   "metadata": {},
   "outputs": [],
   "source": [
    "tens_try = map1.weights.view(length, width, 3)\n",
    "plt.imshow(tens_try)\n",
    "\n",
    "classification = map1.classify_all(map1.convert_data_tensor(data))\n",
    "for i in range(len(classification)):\n",
    "    loc_tuple = map1.get_location(classification[i])\n",
    "    plt.text(loc_tuple[1], loc_tuple[0], color_names[i], ha='center', va='center',\n",
    "         bbox=dict(facecolor='white', alpha=0.5, lw=0))\n",
    "z\n",
    "# plt.text(0, 1, color_names[1], ha='center', va='center',\n",
    "#          bbox=dict(facecolor='white', alpha=0.5, lw=0))\n",
    "plt.show()"
   ]
  },
  {
   "cell_type": "code",
   "execution_count": null,
   "metadata": {},
   "outputs": [],
   "source": [
    "visualize_rgb(map1)"
   ]
  },
  {
   "cell_type": "code",
   "execution_count": null,
   "metadata": {},
   "outputs": [],
   "source": []
  }
 ],
 "metadata": {
  "jupytext": {
   "formats": "ipynb,py:light"
  },
  "kernelspec": {
   "display_name": "Python 3",
   "language": "python",
   "name": "python3"
  },
  "language_info": {
   "codemirror_mode": {
    "name": "ipython",
    "version": 3
   },
   "file_extension": ".py",
   "mimetype": "text/x-python",
   "name": "python",
   "nbconvert_exporter": "python",
   "pygments_lexer": "ipython3",
   "version": "3.7.3"
  }
 },
 "nbformat": 4,
 "nbformat_minor": 2
}
