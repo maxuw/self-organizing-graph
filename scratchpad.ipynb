{
 "cells": [
  {
   "cell_type": "code",
   "execution_count": null,
   "metadata": {},
   "outputs": [],
   "source": []
  },
  {
   "cell_type": "code",
   "execution_count": null,
   "metadata": {
    "lines_to_next_cell": 2
   },
   "outputs": [],
   "source": [
    "torch.FloatTensor([0., 0., 1.])"
   ]
  },
  {
   "cell_type": "code",
   "execution_count": null,
   "metadata": {},
   "outputs": [],
   "source": [
    "map1 = MapClass(length, width, dim, move_closer_coef)"
   ]
  },
  {
   "cell_type": "code",
   "execution_count": null,
   "metadata": {},
   "outputs": [],
   "source": [
    "map1.map"
   ]
  },
  {
   "cell_type": "code",
   "execution_count": null,
   "metadata": {},
   "outputs": [],
   "source": [
    "map1.map"
   ]
  },
  {
   "cell_type": "code",
   "execution_count": null,
   "metadata": {},
   "outputs": [],
   "source": [
    "map1.find_bmu(input_data[0])"
   ]
  },
  {
   "cell_type": "code",
   "execution_count": null,
   "metadata": {},
   "outputs": [],
   "source": [
    "map1.map[5]"
   ]
  },
  {
   "cell_type": "code",
   "execution_count": null,
   "metadata": {},
   "outputs": [],
   "source": [
    "input_data[0]"
   ]
  },
  {
   "cell_type": "code",
   "execution_count": null,
   "metadata": {},
   "outputs": [],
   "source": [
    "change = map1.map[5] - input_data[0]"
   ]
  },
  {
   "cell_type": "code",
   "execution_count": null,
   "metadata": {},
   "outputs": [],
   "source": [
    "map1.map[5] = map1.map[5] - (change * move_closer_coef)"
   ]
  },
  {
   "cell_type": "code",
   "execution_count": null,
   "metadata": {},
   "outputs": [],
   "source": [
    "map1.map"
   ]
  },
  {
   "cell_type": "code",
   "execution_count": null,
   "metadata": {},
   "outputs": [],
   "source": [
    "map1.move_closer(0, input_data[0])"
   ]
  },
  {
   "cell_type": "code",
   "execution_count": null,
   "metadata": {},
   "outputs": [],
   "source": [
    "map1"
   ]
  },
  {
   "cell_type": "code",
   "execution_count": null,
   "metadata": {},
   "outputs": [],
   "source": []
  },
  {
   "cell_type": "code",
   "execution_count": null,
   "metadata": {},
   "outputs": [],
   "source": []
  },
  {
   "cell_type": "code",
   "execution_count": null,
   "metadata": {},
   "outputs": [],
   "source": []
  },
  {
   "cell_type": "code",
   "execution_count": null,
   "metadata": {},
   "outputs": [],
   "source": []
  },
  {
   "cell_type": "code",
   "execution_count": 14,
   "metadata": {},
   "outputs": [
    {
     "data": {
      "text/plain": [
       "tensor([0.1000, 0.3000])"
      ]
     },
     "execution_count": 14,
     "metadata": {},
     "output_type": "execute_result"
    }
   ],
   "source": [
    "input_data[0]"
   ]
  },
  {
   "cell_type": "code",
   "execution_count": 15,
   "metadata": {},
   "outputs": [],
   "source": [
    "map2 = MapClass(length, width, dim, move_closer_coef)"
   ]
  },
  {
   "cell_type": "code",
   "execution_count": 16,
   "metadata": {},
   "outputs": [
    {
     "data": {
      "text/plain": [
       "tensor([[[0.9904, 0.7310, 0.0053],\n",
       "         [0.2924, 0.1835, 0.6877],\n",
       "         [0.7551, 0.2119, 0.5439],\n",
       "         [0.3339, 0.3394, 0.6527]],\n",
       "\n",
       "        [[0.6395, 0.6590, 0.3164],\n",
       "         [0.8398, 0.5236, 0.7563],\n",
       "         [0.5196, 0.9123, 0.5672],\n",
       "         [0.1545, 0.9025, 0.8709]]])"
      ]
     },
     "execution_count": 16,
     "metadata": {},
     "output_type": "execute_result"
    }
   ],
   "source": [
    "map_view(map2.map)"
   ]
  },
  {
   "cell_type": "code",
   "execution_count": 17,
   "metadata": {},
   "outputs": [
    {
     "name": "stdout",
     "output_type": "stream",
     "text": [
      "tensor([0.7928, 0.1152])\n",
      "tensor([0.3981, 0.1289])\n",
      "tensor([0.0090, 0.0003])\n",
      "tensor([0.0370, 0.2914])\n",
      "tensor([0.0070, 0.0500])\n",
      "tensor([0.3454, 0.2082])\n",
      "tensor([0.4292, 0.0482])\n",
      "tensor([0.0125, 0.3749])\n",
      "tensor([0.1971, 0.0714])\n",
      "tensor([0.0547, 0.0212])\n",
      "tensor([0.0573, 0.3630])\n"
     ]
    }
   ],
   "source": [
    "for i in range(11):\n",
    "    print((map2.map[i] - input_data[0]).pow(2))"
   ]
  },
  {
   "cell_type": "code",
   "execution_count": 18,
   "metadata": {},
   "outputs": [
    {
     "name": "stdout",
     "output_type": "stream",
     "text": [
      "tensor(0.9080)\n",
      "tensor(0.5270)\n",
      "tensor(0.0092)\n",
      "tensor(0.3284)\n",
      "tensor(0.0570)\n",
      "tensor(0.5536)\n",
      "tensor(0.4774)\n",
      "tensor(0.3874)\n",
      "tensor(0.2685)\n",
      "tensor(0.0759)\n",
      "tensor(0.4203)\n"
     ]
    }
   ],
   "source": [
    "for i in range(11):\n",
    "    print(sum((map2.map[i] - input_data[0]).pow(2)))"
   ]
  },
  {
   "cell_type": "code",
   "execution_count": 19,
   "metadata": {},
   "outputs": [
    {
     "name": "stdout",
     "output_type": "stream",
     "text": [
      "tensor([[7.9280e-01, 1.1523e-01],\n",
      "        [3.9810e-01, 1.2891e-01],\n",
      "        [8.9715e-03, 2.7027e-04],\n",
      "        [3.7031e-02, 2.9137e-01],\n",
      "        [6.9751e-03, 4.9990e-02],\n",
      "        [3.4539e-01, 2.0820e-01],\n",
      "        [4.2919e-01, 4.8208e-02],\n",
      "        [1.2524e-02, 3.7491e-01],\n",
      "        [1.9706e-01, 7.1418e-02],\n",
      "        [5.4710e-02, 2.1183e-02],\n",
      "        [5.7293e-02, 3.6303e-01],\n",
      "        [3.0544e-01, 3.2596e-01]])\n",
      "tensor([0.9080, 0.5270, 0.0092, 0.3284, 0.0570, 0.5536, 0.4774, 0.3874, 0.2685,\n",
      "        0.0759, 0.4203, 0.6314])\n",
      "torch.return_types.topk(\n",
      "values=tensor([0.0092]),\n",
      "indices=tensor([2]))\n"
     ]
    },
    {
     "data": {
      "text/plain": [
       "tensor([2])"
      ]
     },
     "execution_count": 19,
     "metadata": {},
     "output_type": "execute_result"
    }
   ],
   "source": [
    "map2.find_bmu(input_data[0])"
   ]
  },
  {
   "cell_type": "code",
   "execution_count": null,
   "metadata": {},
   "outputs": [],
   "source": [
    "map1.move_closer(3, input_data[0])"
   ]
  },
  {
   "cell_type": "code",
   "execution_count": null,
   "metadata": {},
   "outputs": [],
   "source": [
    "map_view(map1.map)"
   ]
  },
  {
   "cell_type": "code",
   "execution_count": null,
   "metadata": {},
   "outputs": [],
   "source": [
    "input_data[1]"
   ]
  },
  {
   "cell_type": "code",
   "execution_count": null,
   "metadata": {},
   "outputs": [],
   "source": [
    "map1.find_bmu(input_data[1])"
   ]
  },
  {
   "cell_type": "code",
   "execution_count": null,
   "metadata": {},
   "outputs": [],
   "source": [
    "map1.move_closer(2, input_data[1])"
   ]
  },
  {
   "cell_type": "code",
   "execution_count": null,
   "metadata": {},
   "outputs": [],
   "source": [
    "map_view(map1.map)"
   ]
  }
 ],
 "metadata": {
  "kernelspec": {
   "display_name": "Python 3",
   "language": "python",
   "name": "python3"
  },
  "language_info": {
   "codemirror_mode": {
    "name": "ipython",
    "version": 3
   },
   "file_extension": ".py",
   "mimetype": "text/x-python",
   "name": "python",
   "nbconvert_exporter": "python",
   "pygments_lexer": "ipython3",
   "version": "3.7.3"
  }
 },
 "nbformat": 4,
 "nbformat_minor": 2
}
