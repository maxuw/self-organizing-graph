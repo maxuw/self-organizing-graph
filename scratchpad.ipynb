{
 "cells": [
  {
   "cell_type": "code",
   "execution_count": null,
   "metadata": {},
   "outputs": [],
   "source": [
    "def convert_data(data):\n",
    "    tensor_data = []\n",
    "    for row in data:\n",
    "        tensor_data.append(torch.FloatTensor(row))\n",
    "    \n",
    "    return tensor_data"
   ]
  },
  {
   "cell_type": "code",
   "execution_count": null,
   "metadata": {},
   "outputs": [],
   "source": []
  },
  {
   "cell_type": "code",
   "execution_count": null,
   "metadata": {},
   "outputs": [],
   "source": []
  },
  {
   "cell_type": "code",
   "execution_count": null,
   "metadata": {
    "lines_to_next_cell": 2
   },
   "outputs": [],
   "source": [
    "torch.FloatTensor([0., 0., 1.])"
   ]
  },
  {
   "cell_type": "code",
   "execution_count": null,
   "metadata": {},
   "outputs": [],
   "source": [
    "map1 = MapClass(length, width, dim, move_closer_coef)"
   ]
  },
  {
   "cell_type": "code",
   "execution_count": null,
   "metadata": {},
   "outputs": [],
   "source": [
    "map1.map"
   ]
  },
  {
   "cell_type": "code",
   "execution_count": null,
   "metadata": {},
   "outputs": [],
   "source": [
    "map1.map"
   ]
  },
  {
   "cell_type": "code",
   "execution_count": null,
   "metadata": {},
   "outputs": [],
   "source": [
    "map1.find_bmu(input_data[0])"
   ]
  },
  {
   "cell_type": "code",
   "execution_count": null,
   "metadata": {},
   "outputs": [],
   "source": [
    "map1.map[5]"
   ]
  },
  {
   "cell_type": "code",
   "execution_count": null,
   "metadata": {},
   "outputs": [],
   "source": [
    "input_data[0]"
   ]
  },
  {
   "cell_type": "code",
   "execution_count": null,
   "metadata": {},
   "outputs": [],
   "source": [
    "change = map1.map[5] - input_data[0]"
   ]
  },
  {
   "cell_type": "code",
   "execution_count": null,
   "metadata": {},
   "outputs": [],
   "source": [
    "map1.map[5] = map1.map[5] - (change * move_closer_coef)"
   ]
  },
  {
   "cell_type": "code",
   "execution_count": null,
   "metadata": {},
   "outputs": [],
   "source": [
    "map1.map"
   ]
  },
  {
   "cell_type": "code",
   "execution_count": null,
   "metadata": {},
   "outputs": [],
   "source": [
    "map1.move_closer(0, input_data[0])"
   ]
  },
  {
   "cell_type": "code",
   "execution_count": null,
   "metadata": {},
   "outputs": [],
   "source": [
    "map1"
   ]
  },
  {
   "cell_type": "code",
   "execution_count": null,
   "metadata": {},
   "outputs": [],
   "source": []
  },
  {
   "cell_type": "code",
   "execution_count": null,
   "metadata": {},
   "outputs": [],
   "source": []
  },
  {
   "cell_type": "code",
   "execution_count": null,
   "metadata": {},
   "outputs": [],
   "source": []
  },
  {
   "cell_type": "code",
   "execution_count": null,
   "metadata": {},
   "outputs": [],
   "source": []
  },
  {
   "cell_type": "code",
   "execution_count": 14,
   "metadata": {},
   "outputs": [
    {
     "data": {
      "text/plain": [
       "tensor([0.1000, 0.3000])"
      ]
     },
     "execution_count": 14,
     "metadata": {},
     "output_type": "execute_result"
    }
   ],
   "source": [
    "input_data[0]"
   ]
  },
  {
   "cell_type": "code",
   "execution_count": 15,
   "metadata": {},
   "outputs": [],
   "source": [
    "map2 = MapClass(length, width, dim, move_closer_coef)"
   ]
  },
  {
   "cell_type": "code",
   "execution_count": 16,
   "metadata": {},
   "outputs": [
    {
     "data": {
      "text/plain": [
       "tensor([[[0.9904, 0.7310, 0.0053],\n",
       "         [0.2924, 0.1835, 0.6877],\n",
       "         [0.7551, 0.2119, 0.5439],\n",
       "         [0.3339, 0.3394, 0.6527]],\n",
       "\n",
       "        [[0.6395, 0.6590, 0.3164],\n",
       "         [0.8398, 0.5236, 0.7563],\n",
       "         [0.5196, 0.9123, 0.5672],\n",
       "         [0.1545, 0.9025, 0.8709]]])"
      ]
     },
     "execution_count": 16,
     "metadata": {},
     "output_type": "execute_result"
    }
   ],
   "source": [
    "map_view(map2.map)"
   ]
  },
  {
   "cell_type": "code",
   "execution_count": 17,
   "metadata": {},
   "outputs": [
    {
     "name": "stdout",
     "output_type": "stream",
     "text": [
      "tensor([0.7928, 0.1152])\n",
      "tensor([0.3981, 0.1289])\n",
      "tensor([0.0090, 0.0003])\n",
      "tensor([0.0370, 0.2914])\n",
      "tensor([0.0070, 0.0500])\n",
      "tensor([0.3454, 0.2082])\n",
      "tensor([0.4292, 0.0482])\n",
      "tensor([0.0125, 0.3749])\n",
      "tensor([0.1971, 0.0714])\n",
      "tensor([0.0547, 0.0212])\n",
      "tensor([0.0573, 0.3630])\n"
     ]
    }
   ],
   "source": [
    "for i in range(11):\n",
    "    print((map2.map[i] - input_data[0]).pow(2))"
   ]
  },
  {
   "cell_type": "code",
   "execution_count": 18,
   "metadata": {},
   "outputs": [
    {
     "name": "stdout",
     "output_type": "stream",
     "text": [
      "tensor(0.9080)\n",
      "tensor(0.5270)\n",
      "tensor(0.0092)\n",
      "tensor(0.3284)\n",
      "tensor(0.0570)\n",
      "tensor(0.5536)\n",
      "tensor(0.4774)\n",
      "tensor(0.3874)\n",
      "tensor(0.2685)\n",
      "tensor(0.0759)\n",
      "tensor(0.4203)\n"
     ]
    }
   ],
   "source": [
    "for i in range(11):\n",
    "    print(sum((map2.map[i] - input_data[0]).pow(2)))"
   ]
  },
  {
   "cell_type": "code",
   "execution_count": 19,
   "metadata": {},
   "outputs": [
    {
     "name": "stdout",
     "output_type": "stream",
     "text": [
      "tensor([[7.9280e-01, 1.1523e-01],\n",
      "        [3.9810e-01, 1.2891e-01],\n",
      "        [8.9715e-03, 2.7027e-04],\n",
      "        [3.7031e-02, 2.9137e-01],\n",
      "        [6.9751e-03, 4.9990e-02],\n",
      "        [3.4539e-01, 2.0820e-01],\n",
      "        [4.2919e-01, 4.8208e-02],\n",
      "        [1.2524e-02, 3.7491e-01],\n",
      "        [1.9706e-01, 7.1418e-02],\n",
      "        [5.4710e-02, 2.1183e-02],\n",
      "        [5.7293e-02, 3.6303e-01],\n",
      "        [3.0544e-01, 3.2596e-01]])\n",
      "tensor([0.9080, 0.5270, 0.0092, 0.3284, 0.0570, 0.5536, 0.4774, 0.3874, 0.2685,\n",
      "        0.0759, 0.4203, 0.6314])\n",
      "torch.return_types.topk(\n",
      "values=tensor([0.0092]),\n",
      "indices=tensor([2]))\n"
     ]
    },
    {
     "data": {
      "text/plain": [
       "tensor([2])"
      ]
     },
     "execution_count": 19,
     "metadata": {},
     "output_type": "execute_result"
    }
   ],
   "source": [
    "map2.find_bmu(input_data[0])"
   ]
  },
  {
   "cell_type": "code",
   "execution_count": null,
   "metadata": {},
   "outputs": [],
   "source": [
    "map1.move_closer(3, input_data[0])"
   ]
  },
  {
   "cell_type": "code",
   "execution_count": null,
   "metadata": {},
   "outputs": [],
   "source": [
    "map_view(map1.map)"
   ]
  },
  {
   "cell_type": "code",
   "execution_count": null,
   "metadata": {},
   "outputs": [],
   "source": [
    "input_data[1]"
   ]
  },
  {
   "cell_type": "code",
   "execution_count": null,
   "metadata": {},
   "outputs": [],
   "source": [
    "map1.find_bmu(input_data[1])"
   ]
  },
  {
   "cell_type": "code",
   "execution_count": null,
   "metadata": {},
   "outputs": [],
   "source": [
    "map1.move_closer(2, input_data[1])"
   ]
  },
  {
   "cell_type": "code",
   "execution_count": null,
   "metadata": {},
   "outputs": [],
   "source": [
    "map_view(map1.map)"
   ]
  },
  {
   "cell_type": "code",
   "execution_count": null,
   "metadata": {},
   "outputs": [],
   "source": []
  },
  {
   "cell_type": "code",
   "execution_count": 2,
   "metadata": {},
   "outputs": [
    {
     "data": {
      "image/png": "[encoded data removed]",
      "text/plain": [
       "<Figure size 288x288 with 2 Axes>"
      ]
     },
     "metadata": {
      "needs_background": "light"
     },
     "output_type": "display_data"
    }
   ],
   "source": [
    "import numpy as np\n",
    "import matplotlib.pyplot as plt\n",
    "\n",
    "plt.matshow(np.random.random((10,10)));\n",
    "plt.colorbar()\n",
    "plt.show()"
   ]
  },
  {
   "cell_type": "code",
   "execution_count": 10,
   "metadata": {},
   "outputs": [
    {
     "data": {
      "image/png": "[encoded data removed]",
      "text/plain": [
       "<Figure size 288x288 with 2 Axes>"
      ]
     },
     "metadata": {
      "needs_background": "light"
     },
     "output_type": "display_data"
    }
   ],
   "source": [
    "plt.matshow([[col_tuple]]);\n",
    "plt.colorbar()\n",
    "plt.show()"
   ]
  },
  {
   "cell_type": "code",
   "execution_count": 12,
   "metadata": {},
   "outputs": [
    {
     "data": {
      "image/png": "[encoded data removed]",
      "text/plain": [
       "<Figure size 288x288 with 2 Axes>"
      ]
     },
     "metadata": {
      "needs_background": "light"
     },
     "output_type": "display_data"
    }
   ],
   "source": [
    "plt.matshow([[col_tuple_2]]);\n",
    "plt.colorbar()\n",
    "plt.show()"
   ]
  },
  {
   "cell_type": "code",
   "execution_count": null,
   "metadata": {},
   "outputs": [],
   "source": []
  },
  {
   "cell_type": "code",
   "execution_count": 7,
   "metadata": {},
   "outputs": [
    {
     "data": {
      "text/plain": [
       "(0.0, 0.0, 0.0)"
      ]
     },
     "execution_count": 7,
     "metadata": {},
     "output_type": "execute_result"
    }
   ],
   "source": [
    "col_tuple"
   ]
  },
  {
   "cell_type": "code",
   "execution_count": 11,
   "metadata": {},
   "outputs": [],
   "source": [
    "col_tuple_2 = (0.0, 0.0, 0.0, 0.0)"
   ]
  },
  {
   "cell_type": "code",
   "execution_count": null,
   "metadata": {},
   "outputs": [],
   "source": [
    "tens1 = torch.tensor([0,0], dtype=torch.float)"
   ]
  },
  {
   "cell_type": "code",
   "execution_count": null,
   "metadata": {},
   "outputs": [],
   "source": [
    "tens2 = torch.tensor([0,1], dtype=torch.float)"
   ]
  },
  {
   "cell_type": "code",
   "execution_count": null,
   "metadata": {},
   "outputs": [],
   "source": [
    "minus = tens1 - tens2\n",
    "minus"
   ]
  },
  {
   "cell_type": "code",
   "execution_count": null,
   "metadata": {},
   "outputs": [],
   "source": [
    "minus_power = minus.pow(2)\n",
    "minus_power"
   ]
  },
  {
   "cell_type": "code",
   "execution_count": null,
   "metadata": {},
   "outputs": [],
   "source": [
    "sum_minus_power = torch.sum(minus_power, dim=0)\n",
    "sum_minus_power"
   ]
  },
  {
   "cell_type": "code",
   "execution_count": null,
   "metadata": {},
   "outputs": [],
   "source": [
    "torch.rsqrt(sum_minus_power)"
   ]
  },
  {
   "cell_type": "code",
   "execution_count": null,
   "metadata": {},
   "outputs": [],
   "source": []
  },
  {
   "cell_type": "code",
   "execution_count": null,
   "metadata": {},
   "outputs": [],
   "source": []
  },
  {
   "cell_type": "code",
   "execution_count": 18,
   "metadata": {},
   "outputs": [],
   "source": [
    "# basic_visualization(map1.map)"
   ]
  },
  {
   "cell_type": "code",
   "execution_count": 20,
   "metadata": {},
   "outputs": [
    {
     "name": "stdout",
     "output_type": "stream",
     "text": [
      "tensor([3])\n",
      "tensor([3])\n",
      "tensor([3])\n",
      "tensor([0])\n",
      "tensor([1])\n",
      "tensor([8])\n",
      "tensor([19])\n",
      "tensor([14])\n",
      "tensor([0])\n",
      "tensor([13])\n",
      "tensor([19])\n",
      "tensor([12])\n",
      "tensor([3])\n",
      "tensor([6])\n",
      "tensor([8])\n"
     ]
    },
    {
     "data": {
      "text/plain": [
       "[3, 3, 3, 0, 1, 8, 19, 14, 0, 13, 19, 12, 3, 6, 8]"
      ]
     },
     "execution_count": 20,
     "metadata": {},
     "output_type": "execute_result"
    }
   ],
   "source": [
    "map1.classify_all(map1.convert_data_tensor(data), verbose=True)"
   ]
  },
  {
   "cell_type": "code",
   "execution_count": 25,
   "metadata": {},
   "outputs": [
    {
     "data": {
      "image/png": "[encoded data removed]",
      "text/plain": [
       "<Figure size 432x288 with 1 Axes>"
      ]
     },
     "metadata": {
      "needs_background": "light"
     },
     "output_type": "display_data"
    }
   ],
   "source": [
    "plt.imshow(list_colors_2)\n",
    "plt.show()"
   ]
  },
  {
   "cell_type": "code",
   "execution_count": 34,
   "metadata": {},
   "outputs": [
    {
     "data": {
      "text/plain": [
       "tensor([0., 0., 0.])"
      ]
     },
     "execution_count": 34,
     "metadata": {},
     "output_type": "execute_result"
    }
   ],
   "source": [
    "col_tens = torch.tensor([0.0, 0.0, 0.0])\n",
    "col_tens"
   ]
  },
  {
   "cell_type": "code",
   "execution_count": 36,
   "metadata": {},
   "outputs": [
    {
     "data": {
      "text/plain": [
       "[0.0, 0.0, 0.0]"
      ]
     },
     "execution_count": 36,
     "metadata": {},
     "output_type": "execute_result"
    }
   ],
   "source": [
    "col_list = [0.0, 0.0, 0.0]\n",
    "col_list"
   ]
  },
  {
   "cell_type": "code",
   "execution_count": 3,
   "metadata": {},
   "outputs": [
    {
     "data": {
      "text/plain": [
       "(0.0, 0.0, 0.0)"
      ]
     },
     "execution_count": 3,
     "metadata": {},
     "output_type": "execute_result"
    }
   ],
   "source": [
    "col_tuple = (0.0, 0.0, 0.0)\n",
    "col_tuple"
   ]
  },
  {
   "cell_type": "code",
   "execution_count": 68,
   "metadata": {},
   "outputs": [
    {
     "data": {
      "image/png": "[encoded data removed]",
      "text/plain": [
       "<Figure size 432x288 with 1 Axes>"
      ]
     },
     "metadata": {
      "needs_background": "light"
     },
     "output_type": "display_data"
    }
   ],
   "source": [
    "plt.imshow(tens_try)\n",
    "plt.show()"
   ]
  },
  {
   "cell_type": "code",
   "execution_count": 43,
   "metadata": {},
   "outputs": [
    {
     "data": {
      "text/plain": [
       "[(0.0, 0.0, 0.0),\n",
       " (0.0, 0.0, 1.0),\n",
       " (0.0, 0.0, 0.5),\n",
       " (0.125, 0.529, 1.0),\n",
       " (0.33, 0.4, 0.67),\n",
       " (0.6, 0.5, 1.0),\n",
       " (0.0, 1.0, 0.0),\n",
       " (1.0, 0.0, 0.0),\n",
       " (0.0, 1.0, 1.0),\n",
       " (1.0, 0.0, 1.0),\n",
       " (1.0, 1.0, 0.0),\n",
       " (1.0, 1.0, 1.0),\n",
       " (0.33, 0.33, 0.33),\n",
       " (0.5, 0.5, 0.5),\n",
       " (0.66, 0.66, 0.66)]"
      ]
     },
     "execution_count": 43,
     "metadata": {},
     "output_type": "execute_result"
    }
   ],
   "source": [
    "tuple_out_of_list = [tuple(x) for x in rgb_colors]\n",
    "tuple_out_of_list"
   ]
  },
  {
   "cell_type": "code",
   "execution_count": 45,
   "metadata": {},
   "outputs": [],
   "source": [
    "list_colors_2 = [[(0.0, 0.0, 0.0),\n",
    " (0.0, 0.0, 1.0),\n",
    " (0.0, 0.0, 0.5)],\n",
    " [(0.125, 0.529, 1.0),\n",
    " (0.33, 0.4, 0.67),\n",
    " (0.6, 0.5, 1.0)],\n",
    " [(0.0, 1.0, 0.0),\n",
    " (1.0, 0.0, 0.0),\n",
    " (0.0, 1.0, 1.0)],\n",
    " [(1.0, 0.0, 1.0),\n",
    " (1.0, 1.0, 0.0),\n",
    " (1.0, 1.0, 1.0)],\n",
    " (0.33, 0.33, 0.33),\n",
    " (0.5, 0.5, 0.5),\n",
    " (0.66, 0.66, 0.66)]"
   ]
  },
  {
   "cell_type": "code",
   "execution_count": null,
   "metadata": {},
   "outputs": [],
   "source": []
  },
  {
   "cell_type": "code",
   "execution_count": null,
   "metadata": {},
   "outputs": [],
   "source": [
    "plt.imshow(image_grid)\n",
    "plt.title('Color SOM')\n",
    "for i, m in enumerate(mapped):\n",
    "    plt.text(m[1], m[0], color_names[i], ha='center', va='center',\n",
    "             bbox=dict(facecolor='white', alpha=0.5, lw=0))\n",
    "plt.show()"
   ]
  },
  {
   "cell_type": "code",
   "execution_count": 48,
   "metadata": {},
   "outputs": [],
   "source": [
    "rgb_colors_3 = [[[0.0, 0.0, 0.0],\n",
    " [0.0, 0.0, 1.0],\n",
    " [0.0, 0.0, 0.5]],\n",
    " \n",
    " [[0.125, 0.529, 1.0],\n",
    " [0.33, 0.4, 0.67],\n",
    " [0.6, 0.5, 1.0]],\n",
    " \n",
    " [[0.0, 1.0, 0.0],\n",
    " [1.0, 0.0, 0.0],\n",
    " [0.0, 1.0, 1.0]],\n",
    "                \n",
    " [[1.0, 0.0, 1.0],\n",
    " [1.0, 1.0, 0.0],\n",
    " [1.0, 1.0, 1.0]],\n",
    "                \n",
    " [[0.33, 0.33, 0.33],\n",
    " [0.5, 0.5, 0.5],\n",
    " [0.66, 0.66, 0.66]]]"
   ]
  },
  {
   "cell_type": "code",
   "execution_count": 52,
   "metadata": {},
   "outputs": [
    {
     "data": {
      "text/plain": [
       "tensor([[[0.0000, 0.0000, 0.0000],\n",
       "         [0.0000, 0.0000, 1.0000],\n",
       "         [0.0000, 0.0000, 0.5000]],\n",
       "\n",
       "        [[0.1250, 0.5290, 1.0000],\n",
       "         [0.3300, 0.4000, 0.6700],\n",
       "         [0.6000, 0.5000, 1.0000]],\n",
       "\n",
       "        [[0.0000, 1.0000, 0.0000],\n",
       "         [1.0000, 0.0000, 0.0000],\n",
       "         [0.0000, 1.0000, 1.0000]],\n",
       "\n",
       "        [[1.0000, 0.0000, 1.0000],\n",
       "         [1.0000, 1.0000, 0.0000],\n",
       "         [1.0000, 1.0000, 1.0000]],\n",
       "\n",
       "        [[0.3300, 0.3300, 0.3300],\n",
       "         [0.5000, 0.5000, 0.5000],\n",
       "         [0.6600, 0.6600, 0.6600]]])"
      ]
     },
     "execution_count": 52,
     "metadata": {},
     "output_type": "execute_result"
    }
   ],
   "source": [
    "tensor_3 = torch.tensor(rgb_colors_3)\n",
    "tensor_3"
   ]
  },
  {
   "cell_type": "code",
   "execution_count": 57,
   "metadata": {},
   "outputs": [
    {
     "data": {
      "text/plain": [
       "torch.Tensor"
      ]
     },
     "execution_count": 57,
     "metadata": {},
     "output_type": "execute_result"
    }
   ],
   "source": [
    "type(tensor_3[0][1])"
   ]
  },
  {
   "cell_type": "code",
   "execution_count": 58,
   "metadata": {},
   "outputs": [
    {
     "ename": "RuntimeError",
     "evalue": "shape '[4, 3, 3]' is invalid for input of size 60",
     "output_type": "error",
     "traceback": [
      "\u001b[0;31m---------------------------------------------------------------------------\u001b[0m",
      "\u001b[0;31mRuntimeError\u001b[0m                              Traceback (most recent call last)",
      "\u001b[0;32m<ipython-input-58-279f198e38d9>\u001b[0m in \u001b[0;36m<module>\u001b[0;34m\u001b[0m\n\u001b[0;32m----> 1\u001b[0;31m \u001b[0mmap1\u001b[0m\u001b[0;34m.\u001b[0m\u001b[0mweights\u001b[0m\u001b[0;34m.\u001b[0m\u001b[0mview\u001b[0m\u001b[0;34m(\u001b[0m\u001b[0;36m4\u001b[0m\u001b[0;34m,\u001b[0m\u001b[0;36m3\u001b[0m\u001b[0;34m,\u001b[0m\u001b[0;36m3\u001b[0m\u001b[0;34m)\u001b[0m\u001b[0;34m\u001b[0m\u001b[0;34m\u001b[0m\u001b[0m\n\u001b[0m",
      "\u001b[0;31mRuntimeError\u001b[0m: shape '[4, 3, 3]' is invalid for input of size 60"
     ]
    }
   ],
   "source": [
    "map1.weights.view(4,3,3)"
   ]
  },
  {
   "cell_type": "code",
   "execution_count": 67,
   "metadata": {},
   "outputs": [
    {
     "data": {
      "text/plain": [
       "tensor([[[0.3565, 0.5762, 0.7609],\n",
       "         [0.3874, 0.4481, 0.6713],\n",
       "         [0.4078, 0.3836, 0.6065],\n",
       "         [0.3357, 0.3023, 0.5338]],\n",
       "\n",
       "        [[0.4868, 0.5412, 0.7058],\n",
       "         [0.5210, 0.4695, 0.6804],\n",
       "         [0.5246, 0.4090, 0.5944],\n",
       "         [0.5163, 0.3599, 0.5467]],\n",
       "\n",
       "        [[0.6505, 0.5384, 0.7324],\n",
       "         [0.6834, 0.4715, 0.6597],\n",
       "         [0.7148, 0.4166, 0.5778],\n",
       "         [0.6796, 0.4149, 0.5088]],\n",
       "\n",
       "        [[0.8002, 0.6010, 0.7368],\n",
       "         [0.7992, 0.4895, 0.6183],\n",
       "         [0.8554, 0.4302, 0.5272],\n",
       "         [0.7912, 0.5139, 0.4331]],\n",
       "\n",
       "        [[0.7582, 0.5554, 0.6738],\n",
       "         [0.8102, 0.5246, 0.5678],\n",
       "         [0.8337, 0.5529, 0.4577],\n",
       "         [0.8184, 0.6835, 0.2890]]])"
      ]
     },
     "execution_count": 67,
     "metadata": {},
     "output_type": "execute_result"
    }
   ],
   "source": [
    "tens_try = map1.weights.view(length, width, 3)\n",
    "tens_try"
   ]
  },
  {
   "cell_type": "code",
   "execution_count": 70,
   "metadata": {},
   "outputs": [
    {
     "data": {
      "image/png": "[encoded data removed]",
      "text/plain": [
       "<Figure size 432x288 with 1 Axes>"
      ]
     },
     "metadata": {
      "needs_background": "light"
     },
     "output_type": "display_data"
    }
   ],
   "source": [
    "visualize_rgb(map1.weights)"
   ]
  }
 ],
 "metadata": {
  "kernelspec": {
   "display_name": "Python 3",
   "language": "python",
   "name": "python3"
  },
  "language_info": {
   "codemirror_mode": {
    "name": "ipython",
    "version": 3
   },
   "file_extension": ".py",
   "mimetype": "text/x-python",
   "name": "python",
   "nbconvert_exporter": "python",
   "pygments_lexer": "ipython3",
   "version": "3.7.3"
  }
 },
 "nbformat": 4,
 "nbformat_minor": 2
}
