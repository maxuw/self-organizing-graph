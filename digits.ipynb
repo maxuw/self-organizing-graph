{
 "cells": [
  {
   "cell_type": "code",
   "execution_count": 1,
   "metadata": {},
   "outputs": [],
   "source": [
    "import torch"
   ]
  },
  {
   "cell_type": "code",
   "execution_count": 2,
   "metadata": {},
   "outputs": [],
   "source": [
    "import numpy as np\n",
    "import matplotlib.pyplot as plt"
   ]
  },
  {
   "cell_type": "code",
   "execution_count": 3,
   "metadata": {},
   "outputs": [],
   "source": [
    "import random"
   ]
  },
  {
   "cell_type": "code",
   "execution_count": 4,
   "metadata": {},
   "outputs": [],
   "source": [
    "from map_class import MapClass\n",
    "from graph_class import Graph"
   ]
  },
  {
   "cell_type": "code",
   "execution_count": 5,
   "metadata": {},
   "outputs": [],
   "source": [
    "from sklearn.datasets import load_digits\n",
    "digits = load_digits()"
   ]
  },
  {
   "cell_type": "code",
   "execution_count": 6,
   "metadata": {},
   "outputs": [],
   "source": [
    "#Training inputs for RGBcolors\n",
    "rgb_colors = [[0., 0., 0.],\n",
    "      [0., 0., 1.],\n",
    "      [0., 0., 0.5],\n",
    "      [0.125, 0.529, 1.0],\n",
    "      [0.33, 0.4, 0.67],\n",
    "      [0.6, 0.5, 1.0],\n",
    "      [0., 1., 0.],\n",
    "      [1., 0., 0.],\n",
    "      [0., 1., 1.],\n",
    "      [1., 0., 1.],\n",
    "      [1., 1., 0.],\n",
    "      [1., 1., 1.],\n",
    "      [.33, .33, .33],\n",
    "      [.5, .5, .5],\n",
    "      [.66, .66, .66]]"
   ]
  },
  {
   "cell_type": "code",
   "execution_count": 7,
   "metadata": {},
   "outputs": [],
   "source": [
    "color_names = \\\n",
    "    ['black', 'blue', 'darkblue', 'skyblue',\n",
    "     'greyblue', 'lilac', 'green', 'red',\n",
    "     'cyan', 'violet', 'yellow', 'white',\n",
    "     'darkgrey', 'mediumgrey', 'lightgrey']"
   ]
  },
  {
   "cell_type": "code",
   "execution_count": null,
   "metadata": {},
   "outputs": [],
   "source": []
  },
  {
   "cell_type": "code",
   "execution_count": 8,
   "metadata": {},
   "outputs": [],
   "source": [
    "# Graph setup"
   ]
  },
  {
   "cell_type": "code",
   "execution_count": 9,
   "metadata": {},
   "outputs": [],
   "source": [
    "amount_vertecies = 100\n",
    "percent_edges = 0.5"
   ]
  },
  {
   "cell_type": "code",
   "execution_count": null,
   "metadata": {},
   "outputs": [],
   "source": []
  },
  {
   "cell_type": "code",
   "execution_count": 10,
   "metadata": {},
   "outputs": [
    {
     "name": "stdout",
     "output_type": "stream",
     "text": [
      "5000\n"
     ]
    }
   ],
   "source": [
    "graph1 = Graph()\n",
    "matrix1 = graph1.create_matrix(amount_vertecies)\n",
    "edges1 = graph1.generate_edges(amount_vertecies, percent_edges)\n",
    "matrix1 = graph1.add_edges(matrix1, edges1)"
   ]
  },
  {
   "cell_type": "code",
   "execution_count": 11,
   "metadata": {},
   "outputs": [],
   "source": [
    "\n",
    "\n",
    "# n_samples, n_features = data.shape\n",
    "# n_digits = len(np.unique(digits.target))\n"
   ]
  },
  {
   "cell_type": "code",
   "execution_count": 12,
   "metadata": {
    "lines_to_next_cell": 0
   },
   "outputs": [],
   "source": [
    "# Network configuration\n",
    "\n",
    "data = digits.data\n",
    "data_lables = digits.target\n",
    "batch_size = 10\n",
    "\n",
    "length = 10\n",
    "width = 10\n",
    "number_iterations = 100\n",
    "shuffle = True\n",
    "\n",
    "learning_rate = 0.01"
   ]
  },
  {
   "cell_type": "code",
   "execution_count": null,
   "metadata": {},
   "outputs": [],
   "source": []
  },
  {
   "cell_type": "code",
   "execution_count": 13,
   "metadata": {},
   "outputs": [
    {
     "name": "stdout",
     "output_type": "stream",
     "text": [
      "64\n",
      "1797\n"
     ]
    }
   ],
   "source": [
    "map1 = MapClass(data, length, width, learning_rate, number_iterations, matrix1, data_lables, batch_size, shuffle)"
   ]
  },
  {
   "cell_type": "code",
   "execution_count": 14,
   "metadata": {},
   "outputs": [],
   "source": [
    "# training, dim, number_rows_data = load_data(data, batch_size)"
   ]
  },
  {
   "cell_type": "code",
   "execution_count": 15,
   "metadata": {},
   "outputs": [
    {
     "name": "stdout",
     "output_type": "stream",
     "text": [
      "batch tensor([[ 0.,  0.,  5., 16., 12.,  2.,  0.,  0.,  0.,  0., 13., 14., 15., 11.,\n",
      "          0.,  0.,  0.,  6., 15.,  1.,  2., 16.,  4.,  0.,  0.,  6., 14.,  0.,\n",
      "          0.,  9.,  8.,  0.,  0.,  8., 10.,  0.,  0., 13.,  8.,  0.,  0.,  4.,\n",
      "         13.,  0.,  1., 14.,  8.,  0.,  0.,  0., 14., 14., 15., 15.,  3.,  0.,\n",
      "          0.,  0.,  5., 12., 13.,  8.,  0.,  0.],\n",
      "        [ 0.,  2.,  9., 15., 16., 15.,  2.,  0.,  0., 11., 11.,  5.,  9., 16.,\n",
      "          3.,  0.,  0.,  0.,  0.,  0.,  9., 12.,  0.,  0.,  0.,  0.,  0.,  0.,\n",
      "          6., 15.,  1.,  0.,  0.,  0.,  0.,  0.,  0., 14.,  9.,  0.,  0.,  0.,\n",
      "          0.,  0.,  0., 12., 12.,  0.,  0.,  0.,  5.,  3.,  6., 15.,  7.,  0.,\n",
      "          0.,  0., 12., 16., 15.,  9.,  1.,  0.],\n",
      "        [ 0.,  0.,  0.,  4.,  9.,  0.,  0.,  0.,  0.,  0.,  0., 12., 11.,  0.,\n",
      "          0.,  0.,  0.,  0.,  4., 13., 16.,  4.,  0.,  0.,  0.,  0., 12.,  6.,\n",
      "         14.,  4.,  0.,  0.,  0.,  4., 16.,  9., 15., 13.,  3.,  0.,  0.,  4.,\n",
      "         12., 12., 16., 14.,  6.,  0.,  0.,  0.,  0.,  0., 16.,  4.,  0.,  0.,\n",
      "          0.,  0.,  0.,  2., 16.,  3.,  0.,  0.],\n",
      "        [ 0.,  0., 13., 13.,  8.,  2.,  0.,  0.,  0.,  5., 16., 16., 16., 12.,\n",
      "          0.,  0.,  0.,  1., 15., 12.,  0.,  0.,  0.,  0.,  0.,  0., 12., 13.,\n",
      "          7.,  1.,  0.,  0.,  0.,  0.,  8., 16., 16., 12.,  0.,  0.,  0.,  0.,\n",
      "          0.,  4.,  9., 16.,  3.,  0.,  0.,  0.,  1.,  5., 14., 15.,  1.,  0.,\n",
      "          0.,  0., 10., 16., 16.,  6.,  0.,  0.],\n",
      "        [ 0.,  0., 10., 13.,  5.,  0.,  0.,  0.,  0.,  3., 16., 16., 16., 10.,\n",
      "          0.,  0.,  0.,  8., 16.,  1.,  6., 16.,  5.,  0.,  0.,  8., 11.,  0.,\n",
      "          0.,  9., 12.,  0.,  0., 10.,  8.,  0.,  0.,  8., 12.,  0.,  0.,  8.,\n",
      "         11.,  0.,  0.,  8., 11.,  0.,  0.,  3., 16., 10.,  8., 15.,  9.,  0.,\n",
      "          0.,  0.,  9., 16., 16., 10.,  1.,  0.],\n",
      "        [ 0.,  0.,  9., 16., 15., 14.,  1.,  0.,  0.,  1., 15., 15.,  5., 10.,\n",
      "          7.,  0.,  0.,  6., 16.,  1.,  0.,  1.,  8.,  0.,  0.,  8., 13.,  0.,\n",
      "          0.,  4.,  8.,  0.,  0.,  7.,  6.,  0.,  0.,  6.,  6.,  0.,  0.,  5.,\n",
      "          9.,  0.,  0., 13.,  1.,  0.,  0.,  0., 16.,  5., 12., 12.,  0.,  0.,\n",
      "          0.,  0.,  8., 15., 10.,  1.,  0.,  0.],\n",
      "        [ 0.,  0.,  0., 11.,  5.,  3., 11.,  0.,  0.,  0.,  7., 14.,  2., 12.,\n",
      "          9.,  0.,  0.,  2., 15.,  6.,  3., 16.,  5.,  0.,  0.,  7., 16.,  8.,\n",
      "         13., 16., 13.,  0.,  0.,  7., 16., 16., 16.,  7.,  1.,  0.,  0.,  0.,\n",
      "          4., 10., 13.,  0.,  0.,  0.,  0.,  0.,  0., 12.,  6.,  0.,  0.,  0.,\n",
      "          0.,  0.,  0., 12.,  0.,  0.,  0.,  0.],\n",
      "        [ 0.,  0.,  2., 16.,  5.,  0.,  0.,  0.,  0.,  0.,  6., 16.,  2.,  0.,\n",
      "          0.,  0.,  0.,  0.,  9., 13.,  0.,  0.,  0.,  0.,  0.,  0., 11., 13.,\n",
      "         12., 11.,  2.,  0.,  0.,  0., 14., 16., 14., 10., 14.,  0.,  0.,  0.,\n",
      "         13.,  7.,  3.,  0., 14.,  6.,  0.,  0., 10., 14.,  4.,  8., 16.,  7.,\n",
      "          0.,  0.,  2., 14., 16., 15.,  8.,  0.],\n",
      "        [ 0.,  0.,  3., 12., 15., 14.,  3.,  0.,  0.,  1., 16.,  5.,  0.,  8.,\n",
      "         12.,  0.,  0.,  6., 16., 11.,  2., 13.,  7.,  0.,  0.,  2.,  9., 15.,\n",
      "         16.,  4.,  0.,  0.,  0.,  0.,  3., 14., 16.,  7.,  0.,  0.,  0.,  0.,\n",
      "          9.,  5.,  6., 15.,  0.,  0.,  0.,  0., 11., 10.,  7., 16.,  2.,  0.,\n",
      "          0.,  0.,  3., 12., 16., 13.,  0.,  0.],\n",
      "        [ 0.,  0.,  3.,  8., 11., 13., 14.,  0.,  0.,  2., 13., 16., 13., 13.,\n",
      "         13.,  0.,  0.,  1., 16.,  0.,  0.,  0.,  0.,  0.,  0.,  3., 16., 11.,\n",
      "         10.,  1.,  0.,  0.,  0.,  3., 16., 14., 14., 10.,  0.,  0.,  0.,  0.,\n",
      "          8.,  3.,  9., 11.,  0.,  0.,  0.,  0.,  7., 15., 14., 11.,  0.,  0.,\n",
      "          0.,  0.,  2., 12., 13.,  2.,  0.,  0.]], dtype=torch.float64)\n",
      "torch.Size([64, 10])\n",
      "t_batch tensor([[ 0.,  0.,  0.,  0.,  0.,  0.,  0.,  0.,  0.,  0.],\n",
      "        [ 0.,  2.,  0.,  0.,  0.,  0.,  0.,  0.,  0.,  0.],\n",
      "        [ 5.,  9.,  0., 13., 10.,  9.,  0.,  2.,  3.,  3.],\n",
      "        [16., 15.,  4., 13., 13., 16., 11., 16., 12.,  8.],\n",
      "        [12., 16.,  9.,  8.,  5., 15.,  5.,  5., 15., 11.],\n",
      "        [ 2., 15.,  0.,  2.,  0., 14.,  3.,  0., 14., 13.],\n",
      "        [ 0.,  2.,  0.,  0.,  0.,  1., 11.,  0.,  3., 14.],\n",
      "        [ 0.,  0.,  0.,  0.,  0.,  0.,  0.,  0.,  0.,  0.],\n",
      "        [ 0.,  0.,  0.,  0.,  0.,  0.,  0.,  0.,  0.,  0.],\n",
      "        [ 0., 11.,  0.,  5.,  3.,  1.,  0.,  0.,  1.,  2.],\n",
      "        [13., 11.,  0., 16., 16., 15.,  7.,  6., 16., 13.],\n",
      "        [14.,  5., 12., 16., 16., 15., 14., 16.,  5., 16.],\n",
      "        [15.,  9., 11., 16., 16.,  5.,  2.,  2.,  0., 13.],\n",
      "        [11., 16.,  0., 12., 10., 10., 12.,  0.,  8., 13.],\n",
      "        [ 0.,  3.,  0.,  0.,  0.,  7.,  9.,  0., 12., 13.],\n",
      "        [ 0.,  0.,  0.,  0.,  0.,  0.,  0.,  0.,  0.,  0.],\n",
      "        [ 0.,  0.,  0.,  0.,  0.,  0.,  0.,  0.,  0.,  0.],\n",
      "        [ 6.,  0.,  0.,  1.,  8.,  6.,  2.,  0.,  6.,  1.],\n",
      "        [15.,  0.,  4., 15., 16., 16., 15.,  9., 16., 16.],\n",
      "        [ 1.,  0., 13., 12.,  1.,  1.,  6., 13., 11.,  0.],\n",
      "        [ 2.,  9., 16.,  0.,  6.,  0.,  3.,  0.,  2.,  0.],\n",
      "        [16., 12.,  4.,  0., 16.,  1., 16.,  0., 13.,  0.],\n",
      "        [ 4.,  0.,  0.,  0.,  5.,  8.,  5.,  0.,  7.,  0.],\n",
      "        [ 0.,  0.,  0.,  0.,  0.,  0.,  0.,  0.,  0.,  0.],\n",
      "        [ 0.,  0.,  0.,  0.,  0.,  0.,  0.,  0.,  0.,  0.],\n",
      "        [ 6.,  0.,  0.,  0.,  8.,  8.,  7.,  0.,  2.,  3.],\n",
      "        [14.,  0., 12., 12., 11., 13., 16., 11.,  9., 16.],\n",
      "        [ 0.,  0.,  6., 13.,  0.,  0.,  8., 13., 15., 11.],\n",
      "        [ 0.,  6., 14.,  7.,  0.,  0., 13., 12., 16., 10.],\n",
      "        [ 9., 15.,  4.,  1.,  9.,  4., 16., 11.,  4.,  1.],\n",
      "        [ 8.,  1.,  0.,  0., 12.,  8., 13.,  2.,  0.,  0.],\n",
      "        [ 0.,  0.,  0.,  0.,  0.,  0.,  0.,  0.,  0.,  0.],\n",
      "        [ 0.,  0.,  0.,  0.,  0.,  0.,  0.,  0.,  0.,  0.],\n",
      "        [ 8.,  0.,  4.,  0., 10.,  7.,  7.,  0.,  0.,  3.],\n",
      "        [10.,  0., 16.,  8.,  8.,  6., 16., 14.,  3., 16.],\n",
      "        [ 0.,  0.,  9., 16.,  0.,  0., 16., 16., 14., 14.],\n",
      "        [ 0.,  0., 15., 16.,  0.,  0., 16., 14., 16., 14.],\n",
      "        [13., 14., 13., 12.,  8.,  6.,  7., 10.,  7., 10.],\n",
      "        [ 8.,  9.,  3.,  0., 12.,  6.,  1., 14.,  0.,  0.],\n",
      "        [ 0.,  0.,  0.,  0.,  0.,  0.,  0.,  0.,  0.,  0.],\n",
      "        [ 0.,  0.,  0.,  0.,  0.,  0.,  0.,  0.,  0.,  0.],\n",
      "        [ 4.,  0.,  4.,  0.,  8.,  5.,  0.,  0.,  0.,  0.],\n",
      "        [13.,  0., 12.,  0., 11.,  9.,  4., 13.,  9.,  8.],\n",
      "        [ 0.,  0., 12.,  4.,  0.,  0., 10.,  7.,  5.,  3.],\n",
      "        [ 1.,  0., 16.,  9.,  0.,  0., 13.,  3.,  6.,  9.],\n",
      "        [14., 12., 14., 16.,  8., 13.,  0.,  0., 15., 11.],\n",
      "        [ 8., 12.,  6.,  3., 11.,  1.,  0., 14.,  0.,  0.],\n",
      "        [ 0.,  0.,  0.,  0.,  0.,  0.,  0.,  6.,  0.,  0.],\n",
      "        [ 0.,  0.,  0.,  0.,  0.,  0.,  0.,  0.,  0.,  0.],\n",
      "        [ 0.,  0.,  0.,  0.,  3.,  0.,  0.,  0.,  0.,  0.],\n",
      "        [14.,  5.,  0.,  1., 16., 16.,  0., 10., 11.,  7.],\n",
      "        [14.,  3.,  0.,  5., 10.,  5., 12., 14., 10., 15.],\n",
      "        [15.,  6., 16., 14.,  8., 12.,  6.,  4.,  7., 14.],\n",
      "        [15., 15.,  4., 15., 15., 12.,  0.,  8., 16., 11.],\n",
      "        [ 3.,  7.,  0.,  1.,  9.,  0.,  0., 16.,  2.,  0.],\n",
      "        [ 0.,  0.,  0.,  0.,  0.,  0.,  0.,  7.,  0.,  0.],\n",
      "        [ 0.,  0.,  0.,  0.,  0.,  0.,  0.,  0.,  0.,  0.],\n",
      "        [ 0.,  0.,  0.,  0.,  0.,  0.,  0.,  0.,  0.,  0.],\n",
      "        [ 5., 12.,  0., 10.,  9.,  8.,  0.,  2.,  3.,  2.],\n",
      "        [12., 16.,  2., 16., 16., 15., 12., 14., 12., 12.],\n",
      "        [13., 15., 16., 16., 16., 10.,  0., 16., 16., 13.],\n",
      "        [ 8.,  9.,  3.,  6., 10.,  1.,  0., 15., 13.,  2.],\n",
      "        [ 0.,  1.,  0.,  0.,  1.,  0.,  0.,  8.,  0.,  0.],\n",
      "        [ 0.,  0.,  0.,  0.,  0.,  0.,  0.,  0.,  0.,  0.]])\n",
      "torch.Size([64])\n",
      "tensor([ 0.,  0.,  5., 16., 12.,  2.,  0.,  0.,  0.,  0., 13., 14., 15., 11.,\n",
      "         0.,  0.,  0.,  6., 15.,  1.,  2., 16.,  4.,  0.,  0.,  6., 14.,  0.,\n",
      "         0.,  9.,  8.,  0.,  0.,  8., 10.,  0.,  0., 13.,  8.,  0.,  0.,  4.,\n",
      "        13.,  0.,  1., 14.,  8.,  0.,  0.,  0., 14., 14., 15., 15.,  3.,  0.,\n",
      "         0.,  0.,  5., 12., 13.,  8.,  0.,  0.], dtype=torch.float64)\n"
     ]
    },
    {
     "ename": "RuntimeError",
     "evalue": "expected backend CPU and dtype Double but got backend CPU and dtype Float",
     "output_type": "error",
     "traceback": [
      "\u001b[0;31m---------------------------------------------------------------------------\u001b[0m",
      "\u001b[0;31mRuntimeError\u001b[0m                              Traceback (most recent call last)",
      "\u001b[0;32m<ipython-input-15-1418d2385001>\u001b[0m in \u001b[0;36m<module>\u001b[0;34m\u001b[0m\n\u001b[1;32m      1\u001b[0m \u001b[0mplt\u001b[0m\u001b[0;34m.\u001b[0m\u001b[0mrcParams\u001b[0m\u001b[0;34m[\u001b[0m\u001b[0;34m'figure.dpi'\u001b[0m\u001b[0;34m]\u001b[0m \u001b[0;34m=\u001b[0m \u001b[0;36m150\u001b[0m\u001b[0;34m\u001b[0m\u001b[0;34m\u001b[0m\u001b[0m\n\u001b[0;32m----> 2\u001b[0;31m \u001b[0mmap1\u001b[0m\u001b[0;34m.\u001b[0m\u001b[0mlarge_cycle\u001b[0m\u001b[0;34m(\u001b[0m\u001b[0mdraw_every_epoch\u001b[0m\u001b[0;34m=\u001b[0m\u001b[0;36m10\u001b[0m\u001b[0;34m,\u001b[0m \u001b[0mrgb\u001b[0m\u001b[0;34m=\u001b[0m\u001b[0;32mFalse\u001b[0m\u001b[0;34m)\u001b[0m\u001b[0;34m\u001b[0m\u001b[0;34m\u001b[0m\u001b[0m\n\u001b[0m",
      "\u001b[0;32m~/MEGA/UW/PycharmProjects/max-som/map_class.py\u001b[0m in \u001b[0;36mlarge_cycle\u001b[0;34m(self, verbose, draw_every_epoch, rgb)\u001b[0m\n\u001b[1;32m    107\u001b[0m         \u001b[0;31m#     print(map_display(map_.map))\u001b[0m\u001b[0;34m\u001b[0m\u001b[0;34m\u001b[0m\u001b[0;34m\u001b[0m\u001b[0m\n\u001b[1;32m    108\u001b[0m         \u001b[0;32mfor\u001b[0m \u001b[0mi\u001b[0m \u001b[0;32min\u001b[0m \u001b[0mrange\u001b[0m\u001b[0;34m(\u001b[0m\u001b[0mself\u001b[0m\u001b[0;34m.\u001b[0m\u001b[0mnumber_iterations\u001b[0m\u001b[0;34m)\u001b[0m\u001b[0;34m:\u001b[0m\u001b[0;34m\u001b[0m\u001b[0;34m\u001b[0m\u001b[0m\n\u001b[0;32m--> 109\u001b[0;31m             \u001b[0mself\u001b[0m\u001b[0;34m.\u001b[0m\u001b[0mcycle\u001b[0m\u001b[0;34m(\u001b[0m\u001b[0mself\u001b[0m\u001b[0;34m.\u001b[0m\u001b[0mtrainloader\u001b[0m\u001b[0;34m,\u001b[0m \u001b[0mverbose\u001b[0m\u001b[0;34m)\u001b[0m\u001b[0;34m\u001b[0m\u001b[0;34m\u001b[0m\u001b[0m\n\u001b[0m\u001b[1;32m    110\u001b[0m             \u001b[0;32mif\u001b[0m \u001b[0mdraw_every_epoch\u001b[0m \u001b[0;34m!=\u001b[0m \u001b[0;32mFalse\u001b[0m \u001b[0;32mand\u001b[0m \u001b[0mrgb\u001b[0m\u001b[0;34m:\u001b[0m\u001b[0;34m\u001b[0m\u001b[0;34m\u001b[0m\u001b[0m\n\u001b[1;32m    111\u001b[0m                 \u001b[0;32mif\u001b[0m \u001b[0mi\u001b[0m \u001b[0;34m%\u001b[0m \u001b[0mdraw_every_epoch\u001b[0m \u001b[0;34m==\u001b[0m \u001b[0;36m0\u001b[0m\u001b[0;34m:\u001b[0m \u001b[0mself\u001b[0m\u001b[0;34m.\u001b[0m\u001b[0mvisualize_rgb\u001b[0m\u001b[0;34m(\u001b[0m\u001b[0;34m)\u001b[0m\u001b[0;34m\u001b[0m\u001b[0;34m\u001b[0m\u001b[0m\n",
      "\u001b[0;32m~/MEGA/UW/PycharmProjects/max-som/map_class.py\u001b[0m in \u001b[0;36mcycle\u001b[0;34m(self, training_data, verbose)\u001b[0m\n\u001b[1;32m     76\u001b[0m                 \u001b[0mprint\u001b[0m\u001b[0;34m(\u001b[0m\u001b[0mrow\u001b[0m\u001b[0;34m)\u001b[0m\u001b[0;34m\u001b[0m\u001b[0;34m\u001b[0m\u001b[0m\n\u001b[1;32m     77\u001b[0m                 \u001b[0mi_bmu\u001b[0m \u001b[0;34m=\u001b[0m \u001b[0mself\u001b[0m\u001b[0;34m.\u001b[0m\u001b[0mfind_bmu\u001b[0m\u001b[0;34m(\u001b[0m\u001b[0mrow\u001b[0m\u001b[0;34m.\u001b[0m\u001b[0mfloat\u001b[0m\u001b[0;34m(\u001b[0m\u001b[0;34m)\u001b[0m\u001b[0;34m,\u001b[0m \u001b[0mverbose\u001b[0m\u001b[0;34m)\u001b[0m\u001b[0;34m.\u001b[0m\u001b[0mitem\u001b[0m\u001b[0;34m(\u001b[0m\u001b[0;34m)\u001b[0m\u001b[0;34m\u001b[0m\u001b[0;34m\u001b[0m\u001b[0m\n\u001b[0;32m---> 78\u001b[0;31m                 \u001b[0msample_change\u001b[0m \u001b[0;34m=\u001b[0m \u001b[0mself\u001b[0m\u001b[0;34m.\u001b[0m\u001b[0mmove_closer\u001b[0m\u001b[0;34m(\u001b[0m\u001b[0mi_bmu\u001b[0m\u001b[0;34m,\u001b[0m \u001b[0mrow\u001b[0m\u001b[0;34m)\u001b[0m\u001b[0;34m\u001b[0m\u001b[0;34m\u001b[0m\u001b[0m\n\u001b[0m\u001b[1;32m     79\u001b[0m                 \u001b[0mbatch_change\u001b[0m \u001b[0;34m+=\u001b[0m \u001b[0msample_change\u001b[0m\u001b[0;34m\u001b[0m\u001b[0;34m\u001b[0m\u001b[0m\n\u001b[1;32m     80\u001b[0m                 \u001b[0;31m# if verbose == True: print(\"this sample in batch: \", sample_change[0:3])\u001b[0m\u001b[0;34m\u001b[0m\u001b[0;34m\u001b[0m\u001b[0;34m\u001b[0m\u001b[0m\n",
      "\u001b[0;32m~/MEGA/UW/PycharmProjects/max-som/map_class.py\u001b[0m in \u001b[0;36mmove_closer\u001b[0;34m(self, bmu_index, tensor_row_data)\u001b[0m\n\u001b[1;32m     60\u001b[0m         \u001b[0mamount_vertecies\u001b[0m \u001b[0;34m=\u001b[0m \u001b[0mself\u001b[0m\u001b[0;34m.\u001b[0m\u001b[0mmatrix_graph_weights\u001b[0m\u001b[0;34m.\u001b[0m\u001b[0mshape\u001b[0m\u001b[0;34m[\u001b[0m\u001b[0;36m0\u001b[0m\u001b[0;34m]\u001b[0m\u001b[0;34m\u001b[0m\u001b[0;34m\u001b[0m\u001b[0m\n\u001b[1;32m     61\u001b[0m \u001b[0;34m\u001b[0m\u001b[0m\n\u001b[0;32m---> 62\u001b[0;31m         \u001b[0mdifference\u001b[0m \u001b[0;34m=\u001b[0m \u001b[0mtensor_row_data\u001b[0m \u001b[0;34m-\u001b[0m \u001b[0mself\u001b[0m\u001b[0;34m.\u001b[0m\u001b[0mweights\u001b[0m\u001b[0;34m\u001b[0m\u001b[0;34m\u001b[0m\u001b[0m\n\u001b[0m\u001b[1;32m     63\u001b[0m         \u001b[0mchange\u001b[0m \u001b[0;34m=\u001b[0m \u001b[0mdifference\u001b[0m \u001b[0;34m*\u001b[0m \u001b[0mself\u001b[0m\u001b[0;34m.\u001b[0m\u001b[0mmatrix_graph_weights\u001b[0m\u001b[0;34m[\u001b[0m\u001b[0mbmu_index\u001b[0m\u001b[0;34m]\u001b[0m\u001b[0;34m.\u001b[0m\u001b[0mview\u001b[0m\u001b[0;34m(\u001b[0m\u001b[0mamount_vertecies\u001b[0m\u001b[0;34m,\u001b[0m \u001b[0;36m1\u001b[0m\u001b[0;34m)\u001b[0m\u001b[0;34m\u001b[0m\u001b[0;34m\u001b[0m\u001b[0m\n\u001b[1;32m     64\u001b[0m         \u001b[0mrow_change\u001b[0m \u001b[0;34m=\u001b[0m \u001b[0;34m(\u001b[0m\u001b[0mchange\u001b[0m \u001b[0;34m*\u001b[0m \u001b[0mself\u001b[0m\u001b[0;34m.\u001b[0m\u001b[0mlearning_rate\u001b[0m\u001b[0;34m)\u001b[0m\u001b[0;34m\u001b[0m\u001b[0;34m\u001b[0m\u001b[0m\n",
      "\u001b[0;31mRuntimeError\u001b[0m: expected backend CPU and dtype Double but got backend CPU and dtype Float"
     ]
    }
   ],
   "source": [
    "plt.rcParams['figure.dpi'] = 150\n",
    "map1.large_cycle(draw_every_epoch=10, rgb=False)"
   ]
  },
  {
   "cell_type": "code",
   "execution_count": null,
   "metadata": {},
   "outputs": [],
   "source": [
    "map1.weights.shape"
   ]
  },
  {
   "cell_type": "code",
   "execution_count": null,
   "metadata": {},
   "outputs": [],
   "source": [
    "for tr in map1.trainloader:\n",
    "#     print(tr)\n",
    "    for t in tr:\n",
    "        print(len(t))"
   ]
  },
  {
   "cell_type": "code",
   "execution_count": null,
   "metadata": {},
   "outputs": [],
   "source": []
  }
 ],
 "metadata": {
  "jupytext": {
   "formats": "ipynb,py:light"
  },
  "kernelspec": {
   "display_name": "Python 3",
   "language": "python",
   "name": "python3"
  },
  "language_info": {
   "codemirror_mode": {
    "name": "ipython",
    "version": 3
   },
   "file_extension": ".py",
   "mimetype": "text/x-python",
   "name": "python",
   "nbconvert_exporter": "python",
   "pygments_lexer": "ipython3",
   "version": "3.7.3"
  }
 },
 "nbformat": 4,
 "nbformat_minor": 2
}
