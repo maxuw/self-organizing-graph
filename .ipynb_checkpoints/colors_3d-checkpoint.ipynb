{
 "cells": [
  {
   "cell_type": "code",
   "execution_count": 1,
   "metadata": {},
   "outputs": [],
   "source": [
    "import torch\n",
    "import torch.utils.data"
   ]
  },
  {
   "cell_type": "code",
   "execution_count": 2,
   "metadata": {},
   "outputs": [],
   "source": [
    "import numpy as np\n",
    "import matplotlib.pyplot as plt"
   ]
  },
  {
   "cell_type": "code",
   "execution_count": 3,
   "metadata": {},
   "outputs": [],
   "source": [
    "from map_class import MapClass"
   ]
  },
  {
   "cell_type": "code",
   "execution_count": 4,
   "metadata": {},
   "outputs": [],
   "source": [
    "#Training inputs for RGBcolors\n",
    "rgb_colors = [[0., 0., 0.],\n",
    "      [0., 0., 1.],\n",
    "      [0., 0., 0.5],\n",
    "      [0.125, 0.529, 1.0],\n",
    "      [0.33, 0.4, 0.67],\n",
    "      [0.6, 0.5, 1.0],\n",
    "      [0., 1., 0.],\n",
    "      [1., 0., 0.],\n",
    "      [0., 1., 1.],\n",
    "      [1., 0., 1.],\n",
    "      [1., 1., 0.],\n",
    "      [1., 1., 1.],\n",
    "      [.33, .33, .33],\n",
    "      [.5, .5, .5],\n",
    "      [.66, .66, .66]]"
   ]
  },
  {
   "cell_type": "code",
   "execution_count": 5,
   "metadata": {},
   "outputs": [],
   "source": [
    "#buildings data\n",
    "building_sizes = [[0.1, 0.3], [0.1, 0.2], [1., 1.], [0.125, 0.2], [0.529, 0.12], [1.0, 0.3], [0.33, 0.3], \n",
    "                  [0.4, 0.4], [0.67, 0.3], [.33, 0.7], [.5, 0.1]]\n",
    "#     torch.rand((10))"
   ]
  },
  {
   "cell_type": "code",
   "execution_count": 6,
   "metadata": {},
   "outputs": [],
   "source": [
    "#gray colors data\n",
    "gray_colors = [[0.1], [0.], [1.], [0.125], [0.529], [1.0], [0.33], [0.4], [0.67], [.33], [.5]]\n",
    "#     torch.rand((10))"
   ]
  },
  {
   "cell_type": "code",
   "execution_count": 7,
   "metadata": {
    "lines_to_next_cell": 0
   },
   "outputs": [],
   "source": [
    "# Network configuration\n",
    "\n",
    "data = rgb_colors\n",
    "batch_size = 4\n",
    "\n",
    "length = 5\n",
    "width = 4\n",
    "number_iterations = 100\n",
    "\n",
    "move_closer_coef = 0.5\n",
    "iterations = 100"
   ]
  },
  {
   "cell_type": "code",
   "execution_count": 8,
   "metadata": {},
   "outputs": [],
   "source": [
    "trainloader = \"\"\n",
    "\n",
    "def load_data(data, batch_size=4, shuffle=False):\n",
    "    dim = len(data[0])\n",
    "    number_rows_data = len(data)\n",
    "    \n",
    "    trainloader = torch.utils.data.DataLoader(data, batch_size=batch_size, shuffle=True)\n",
    "    \n",
    "    return trainloader, dim, number_rows_data"
   ]
  },
  {
   "cell_type": "code",
   "execution_count": 9,
   "metadata": {},
   "outputs": [],
   "source": [
    "def large_cycle(map_, training_data):\n",
    "    basic_visualization(map_display(map_.map))\n",
    "    print(map_display(map_.map))\n",
    "    for i in range(number_iterations):\n",
    "        cycle(map_, training_data)\n",
    "    basic_visualization(map_display(map_.map))\n",
    "    print(map_display(map_.map))"
   ]
  },
  {
   "cell_type": "code",
   "execution_count": 72,
   "metadata": {},
   "outputs": [],
   "source": [
    "def large_cycle_rgb(map_, training_data):\n",
    "    visualize_rgb(map_.weights)\n",
    "#     print(map_display(map_.map))\n",
    "    for i in range(number_iterations):\n",
    "        map_.cycle(training_data)\n",
    "    visualize_rgb(map_.weights)\n",
    "#     print(map_display(map_.map))"
   ]
  },
  {
   "cell_type": "code",
   "execution_count": 69,
   "metadata": {},
   "outputs": [],
   "source": [
    "def visualize_rgb(weights_):\n",
    "    tens_try = weights_.view(length, width, 3)\n",
    "    plt.imshow(tens_try)\n",
    "    plt.show()"
   ]
  },
  {
   "cell_type": "code",
   "execution_count": 76,
   "metadata": {},
   "outputs": [
    {
     "data": {
      "image/png": "[encoded data removed]",
      "text/plain": [
       "<Figure size 432x288 with 1 Axes>"
      ]
     },
     "metadata": {
      "needs_background": "light"
     },
     "output_type": "display_data"
    },
    {
     "data": {
      "image/png": "[encoded data removed]",
      "text/plain": [
       "<Figure size 432x288 with 1 Axes>"
      ]
     },
     "metadata": {
      "needs_background": "light"
     },
     "output_type": "display_data"
    }
   ],
   "source": [
    "large_cycle_rgb(map1, training)"
   ]
  },
  {
   "cell_type": "code",
   "execution_count": 10,
   "metadata": {},
   "outputs": [],
   "source": [
    "training, dim, number_rows_data = load_data(data)"
   ]
  },
  {
   "cell_type": "code",
   "execution_count": 75,
   "metadata": {},
   "outputs": [
    {
     "name": "stdout",
     "output_type": "stream",
     "text": [
      "0 0\n",
      "0 1\n",
      "0 2\n",
      "0 3\n",
      "1 0\n",
      "1 1\n",
      "1 2\n",
      "1 3\n",
      "2 0\n",
      "2 1\n",
      "2 2\n",
      "2 3\n",
      "3 0\n",
      "3 1\n",
      "3 2\n",
      "3 3\n",
      "4 0\n",
      "4 1\n",
      "4 2\n",
      "4 3\n"
     ]
    }
   ],
   "source": [
    "map1 = MapClass(length, width, dim, move_closer_coef)"
   ]
  },
  {
   "cell_type": "code",
   "execution_count": 12,
   "metadata": {},
   "outputs": [
    {
     "data": {
      "text/plain": [
       "tensor([[0.3543, 0.7847, 0.8889],\n",
       "        [0.5940, 0.2325, 0.4770],\n",
       "        [0.7237, 0.0283, 0.4073],\n",
       "        [0.0054, 0.2215, 0.3075],\n",
       "        [0.2222, 0.8868, 0.1244],\n",
       "        [0.6512, 0.7680, 0.9492],\n",
       "        [0.0770, 0.4221, 0.0907],\n",
       "        [0.3984, 0.2448, 0.6500],\n",
       "        [0.1701, 0.6000, 0.9125],\n",
       "        [0.3331, 0.9530, 0.9551],\n",
       "        [0.7124, 0.2667, 0.5892],\n",
       "        [0.4007, 0.2099, 0.6594],\n",
       "        [0.9480, 0.8455, 0.5366],\n",
       "        [0.4913, 0.8400, 0.2370],\n",
       "        [0.9501, 0.3873, 0.2671],\n",
       "        [0.4502, 0.4446, 0.8146],\n",
       "        [0.3527, 0.3224, 0.4923],\n",
       "        [0.5868, 0.5228, 0.4135],\n",
       "        [0.5620, 0.6977, 0.9404],\n",
       "        [0.3427, 0.8928, 0.3835]])"
      ]
     },
     "execution_count": 12,
     "metadata": {},
     "output_type": "execute_result"
    }
   ],
   "source": [
    "map1.weights"
   ]
  },
  {
   "cell_type": "code",
   "execution_count": 13,
   "metadata": {},
   "outputs": [],
   "source": [
    "map1.cycle(training)"
   ]
  },
  {
   "cell_type": "code",
   "execution_count": 14,
   "metadata": {},
   "outputs": [
    {
     "data": {
      "text/plain": [
       "tensor([[0.3565, 0.5762, 0.7609],\n",
       "        [0.3874, 0.4481, 0.6713],\n",
       "        [0.4078, 0.3836, 0.6065],\n",
       "        [0.3357, 0.3023, 0.5338],\n",
       "        [0.4868, 0.5412, 0.7058],\n",
       "        [0.5210, 0.4695, 0.6804],\n",
       "        [0.5246, 0.4090, 0.5944],\n",
       "        [0.5163, 0.3599, 0.5467],\n",
       "        [0.6505, 0.5384, 0.7324],\n",
       "        [0.6834, 0.4715, 0.6597],\n",
       "        [0.7148, 0.4166, 0.5778],\n",
       "        [0.6796, 0.4149, 0.5088],\n",
       "        [0.8002, 0.6010, 0.7368],\n",
       "        [0.7992, 0.4895, 0.6183],\n",
       "        [0.8554, 0.4302, 0.5272],\n",
       "        [0.7912, 0.5139, 0.4331],\n",
       "        [0.7582, 0.5554, 0.6738],\n",
       "        [0.8102, 0.5246, 0.5678],\n",
       "        [0.8337, 0.5529, 0.4577],\n",
       "        [0.8184, 0.6835, 0.2890]])"
      ]
     },
     "execution_count": 14,
     "metadata": {},
     "output_type": "execute_result"
    }
   ],
   "source": [
    "map1.weights"
   ]
  },
  {
   "cell_type": "code",
   "execution_count": 15,
   "metadata": {},
   "outputs": [
    {
     "data": {
      "text/plain": [
       "tensor([[0.0000, 1.0000, 2.0000, 3.0000, 1.0000, 1.4142, 2.2361, 3.1623, 2.0000,\n",
       "         2.2361, 2.8284, 3.6056, 3.0000, 3.1623, 3.6056, 4.2426, 4.0000, 4.1231,\n",
       "         4.4721, 5.0000],\n",
       "        [1.0000, 0.0000, 1.0000, 2.0000, 1.4142, 1.0000, 1.4142, 2.2361, 2.2361,\n",
       "         2.0000, 2.2361, 2.8284, 3.1623, 3.0000, 3.1623, 3.6056, 4.1231, 4.0000,\n",
       "         4.1231, 4.4721],\n",
       "        [2.0000, 1.0000, 0.0000, 1.0000, 2.2361, 1.4142, 1.0000, 1.4142, 2.8284,\n",
       "         2.2361, 2.0000, 2.2361, 3.6056, 3.1623, 3.0000, 3.1623, 4.4721, 4.1231,\n",
       "         4.0000, 4.1231],\n",
       "        [3.0000, 2.0000, 1.0000, 0.0000, 3.1623, 2.2361, 1.4142, 1.0000, 3.6056,\n",
       "         2.8284, 2.2361, 2.0000, 4.2426, 3.6056, 3.1623, 3.0000, 5.0000, 4.4721,\n",
       "         4.1231, 4.0000],\n",
       "        [1.0000, 1.4142, 2.2361, 3.1623, 0.0000, 1.0000, 2.0000, 3.0000, 1.0000,\n",
       "         1.4142, 2.2361, 3.1623, 2.0000, 2.2361, 2.8284, 3.6056, 3.0000, 3.1623,\n",
       "         3.6056, 4.2426],\n",
       "        [1.4142, 1.0000, 1.4142, 2.2361, 1.0000, 0.0000, 1.0000, 2.0000, 1.4142,\n",
       "         1.0000, 1.4142, 2.2361, 2.2361, 2.0000, 2.2361, 2.8284, 3.1623, 3.0000,\n",
       "         3.1623, 3.6056],\n",
       "        [2.2361, 1.4142, 1.0000, 1.4142, 2.0000, 1.0000, 0.0000, 1.0000, 2.2361,\n",
       "         1.4142, 1.0000, 1.4142, 2.8284, 2.2361, 2.0000, 2.2361, 3.6056, 3.1623,\n",
       "         3.0000, 3.1623],\n",
       "        [3.1623, 2.2361, 1.4142, 1.0000, 3.0000, 2.0000, 1.0000, 0.0000, 3.1623,\n",
       "         2.2361, 1.4142, 1.0000, 3.6056, 2.8284, 2.2361, 2.0000, 4.2426, 3.6056,\n",
       "         3.1623, 3.0000],\n",
       "        [2.0000, 2.2361, 2.8284, 3.6056, 1.0000, 1.4142, 2.2361, 3.1623, 0.0000,\n",
       "         1.0000, 2.0000, 3.0000, 1.0000, 1.4142, 2.2361, 3.1623, 2.0000, 2.2361,\n",
       "         2.8284, 3.6056],\n",
       "        [2.2361, 2.0000, 2.2361, 2.8284, 1.4142, 1.0000, 1.4142, 2.2361, 1.0000,\n",
       "         0.0000, 1.0000, 2.0000, 1.4142, 1.0000, 1.4142, 2.2361, 2.2361, 2.0000,\n",
       "         2.2361, 2.8284],\n",
       "        [2.8284, 2.2361, 2.0000, 2.2361, 2.2361, 1.4142, 1.0000, 1.4142, 2.0000,\n",
       "         1.0000, 0.0000, 1.0000, 2.2361, 1.4142, 1.0000, 1.4142, 2.8284, 2.2361,\n",
       "         2.0000, 2.2361],\n",
       "        [3.6056, 2.8284, 2.2361, 2.0000, 3.1623, 2.2361, 1.4142, 1.0000, 3.0000,\n",
       "         2.0000, 1.0000, 0.0000, 3.1623, 2.2361, 1.4142, 1.0000, 3.6056, 2.8284,\n",
       "         2.2361, 2.0000],\n",
       "        [3.0000, 3.1623, 3.6056, 4.2426, 2.0000, 2.2361, 2.8284, 3.6056, 1.0000,\n",
       "         1.4142, 2.2361, 3.1623, 0.0000, 1.0000, 2.0000, 3.0000, 1.0000, 1.4142,\n",
       "         2.2361, 3.1623],\n",
       "        [3.1623, 3.0000, 3.1623, 3.6056, 2.2361, 2.0000, 2.2361, 2.8284, 1.4142,\n",
       "         1.0000, 1.4142, 2.2361, 1.0000, 0.0000, 1.0000, 2.0000, 1.4142, 1.0000,\n",
       "         1.4142, 2.2361],\n",
       "        [3.6056, 3.1623, 3.0000, 3.1623, 2.8284, 2.2361, 2.0000, 2.2361, 2.2361,\n",
       "         1.4142, 1.0000, 1.4142, 2.0000, 1.0000, 0.0000, 1.0000, 2.2361, 1.4142,\n",
       "         1.0000, 1.4142],\n",
       "        [4.2426, 3.6056, 3.1623, 3.0000, 3.6056, 2.8284, 2.2361, 2.0000, 3.1623,\n",
       "         2.2361, 1.4142, 1.0000, 3.0000, 2.0000, 1.0000, 0.0000, 3.1623, 2.2361,\n",
       "         1.4142, 1.0000],\n",
       "        [4.0000, 4.1231, 4.4721, 5.0000, 3.0000, 3.1623, 3.6056, 4.2426, 2.0000,\n",
       "         2.2361, 2.8284, 3.6056, 1.0000, 1.4142, 2.2361, 3.1623, 0.0000, 1.0000,\n",
       "         2.0000, 3.0000],\n",
       "        [4.1231, 4.0000, 4.1231, 4.4721, 3.1623, 3.0000, 3.1623, 3.6056, 2.2361,\n",
       "         2.0000, 2.2361, 2.8284, 1.4142, 1.0000, 1.4142, 2.2361, 1.0000, 0.0000,\n",
       "         1.0000, 2.0000],\n",
       "        [4.4721, 4.1231, 4.0000, 4.1231, 3.6056, 3.1623, 3.0000, 3.1623, 2.8284,\n",
       "         2.2361, 2.0000, 2.2361, 2.2361, 1.4142, 1.0000, 1.4142, 2.0000, 1.0000,\n",
       "         0.0000, 1.0000],\n",
       "        [5.0000, 4.4721, 4.1231, 4.0000, 4.2426, 3.6056, 3.1623, 3.0000, 3.6056,\n",
       "         2.8284, 2.2361, 2.0000, 3.1623, 2.2361, 1.4142, 1.0000, 3.0000, 2.0000,\n",
       "         1.0000, 0.0000]])"
      ]
     },
     "execution_count": 15,
     "metadata": {},
     "output_type": "execute_result"
    }
   ],
   "source": [
    "map1.distance_matrix"
   ]
  },
  {
   "cell_type": "code",
   "execution_count": 16,
   "metadata": {},
   "outputs": [
    {
     "data": {
      "text/plain": [
       "tensor([[1.0000, 0.6892, 0.4237, 0.2301, 0.6892, 0.5716, 0.3711, 0.2059, 0.4237,\n",
       "         0.3711, 0.2579, 0.1492, 0.2301, 0.2059, 0.1492, 0.0897, 0.1096, 0.0991,\n",
       "         0.0736, 0.0455],\n",
       "        [0.6892, 1.0000, 0.6892, 0.4237, 0.5716, 0.6892, 0.5716, 0.3711, 0.3711,\n",
       "         0.4237, 0.3711, 0.2579, 0.2059, 0.2301, 0.2059, 0.1492, 0.0991, 0.1096,\n",
       "         0.0991, 0.0736],\n",
       "        [0.4237, 0.6892, 1.0000, 0.6892, 0.3711, 0.5716, 0.6892, 0.5716, 0.2579,\n",
       "         0.3711, 0.4237, 0.3711, 0.1492, 0.2059, 0.2301, 0.2059, 0.0736, 0.0991,\n",
       "         0.1096, 0.0991],\n",
       "        [0.2301, 0.4237, 0.6892, 1.0000, 0.2059, 0.3711, 0.5716, 0.6892, 0.1492,\n",
       "         0.2579, 0.3711, 0.4237, 0.0897, 0.1492, 0.2059, 0.2301, 0.0455, 0.0736,\n",
       "         0.0991, 0.1096],\n",
       "        [0.6892, 0.5716, 0.3711, 0.2059, 1.0000, 0.6892, 0.4237, 0.2301, 0.6892,\n",
       "         0.5716, 0.3711, 0.2059, 0.4237, 0.3711, 0.2579, 0.1492, 0.2301, 0.2059,\n",
       "         0.1492, 0.0897],\n",
       "        [0.5716, 0.6892, 0.5716, 0.3711, 0.6892, 1.0000, 0.6892, 0.4237, 0.5716,\n",
       "         0.6892, 0.5716, 0.3711, 0.3711, 0.4237, 0.3711, 0.2579, 0.2059, 0.2301,\n",
       "         0.2059, 0.1492],\n",
       "        [0.3711, 0.5716, 0.6892, 0.5716, 0.4237, 0.6892, 1.0000, 0.6892, 0.3711,\n",
       "         0.5716, 0.6892, 0.5716, 0.2579, 0.3711, 0.4237, 0.3711, 0.1492, 0.2059,\n",
       "         0.2301, 0.2059],\n",
       "        [0.2059, 0.3711, 0.5716, 0.6892, 0.2301, 0.4237, 0.6892, 1.0000, 0.2059,\n",
       "         0.3711, 0.5716, 0.6892, 0.1492, 0.2579, 0.3711, 0.4237, 0.0897, 0.1492,\n",
       "         0.2059, 0.2301],\n",
       "        [0.4237, 0.3711, 0.2579, 0.1492, 0.6892, 0.5716, 0.3711, 0.2059, 1.0000,\n",
       "         0.6892, 0.4237, 0.2301, 0.6892, 0.5716, 0.3711, 0.2059, 0.4237, 0.3711,\n",
       "         0.2579, 0.1492],\n",
       "        [0.3711, 0.4237, 0.3711, 0.2579, 0.5716, 0.6892, 0.5716, 0.3711, 0.6892,\n",
       "         1.0000, 0.6892, 0.4237, 0.5716, 0.6892, 0.5716, 0.3711, 0.3711, 0.4237,\n",
       "         0.3711, 0.2579],\n",
       "        [0.2579, 0.3711, 0.4237, 0.3711, 0.3711, 0.5716, 0.6892, 0.5716, 0.4237,\n",
       "         0.6892, 1.0000, 0.6892, 0.3711, 0.5716, 0.6892, 0.5716, 0.2579, 0.3711,\n",
       "         0.4237, 0.3711],\n",
       "        [0.1492, 0.2579, 0.3711, 0.4237, 0.2059, 0.3711, 0.5716, 0.6892, 0.2301,\n",
       "         0.4237, 0.6892, 1.0000, 0.2059, 0.3711, 0.5716, 0.6892, 0.1492, 0.2579,\n",
       "         0.3711, 0.4237],\n",
       "        [0.2301, 0.2059, 0.1492, 0.0897, 0.4237, 0.3711, 0.2579, 0.1492, 0.6892,\n",
       "         0.5716, 0.3711, 0.2059, 1.0000, 0.6892, 0.4237, 0.2301, 0.6892, 0.5716,\n",
       "         0.3711, 0.2059],\n",
       "        [0.2059, 0.2301, 0.2059, 0.1492, 0.3711, 0.4237, 0.3711, 0.2579, 0.5716,\n",
       "         0.6892, 0.5716, 0.3711, 0.6892, 1.0000, 0.6892, 0.4237, 0.5716, 0.6892,\n",
       "         0.5716, 0.3711],\n",
       "        [0.1492, 0.2059, 0.2301, 0.2059, 0.2579, 0.3711, 0.4237, 0.3711, 0.3711,\n",
       "         0.5716, 0.6892, 0.5716, 0.4237, 0.6892, 1.0000, 0.6892, 0.3711, 0.5716,\n",
       "         0.6892, 0.5716],\n",
       "        [0.0897, 0.1492, 0.2059, 0.2301, 0.1492, 0.2579, 0.3711, 0.4237, 0.2059,\n",
       "         0.3711, 0.5716, 0.6892, 0.2301, 0.4237, 0.6892, 1.0000, 0.2059, 0.3711,\n",
       "         0.5716, 0.6892],\n",
       "        [0.1096, 0.0991, 0.0736, 0.0455, 0.2301, 0.2059, 0.1492, 0.0897, 0.4237,\n",
       "         0.3711, 0.2579, 0.1492, 0.6892, 0.5716, 0.3711, 0.2059, 1.0000, 0.6892,\n",
       "         0.4237, 0.2301],\n",
       "        [0.0991, 0.1096, 0.0991, 0.0736, 0.2059, 0.2301, 0.2059, 0.1492, 0.3711,\n",
       "         0.4237, 0.3711, 0.2579, 0.5716, 0.6892, 0.5716, 0.3711, 0.6892, 1.0000,\n",
       "         0.6892, 0.4237],\n",
       "        [0.0736, 0.0991, 0.1096, 0.0991, 0.1492, 0.2059, 0.2301, 0.2059, 0.2579,\n",
       "         0.3711, 0.4237, 0.3711, 0.3711, 0.5716, 0.6892, 0.5716, 0.4237, 0.6892,\n",
       "         1.0000, 0.6892],\n",
       "        [0.0455, 0.0736, 0.0991, 0.1096, 0.0897, 0.1492, 0.2059, 0.2301, 0.1492,\n",
       "         0.2579, 0.3711, 0.4237, 0.2059, 0.3711, 0.5716, 0.6892, 0.2301, 0.4237,\n",
       "         0.6892, 1.0000]])"
      ]
     },
     "execution_count": 16,
     "metadata": {},
     "output_type": "execute_result"
    }
   ],
   "source": [
    "map1.impact_matrix"
   ]
  },
  {
   "cell_type": "code",
   "execution_count": null,
   "metadata": {},
   "outputs": [],
   "source": []
  }
 ],
 "metadata": {
  "jupytext": {
   "formats": "ipynb,py:light"
  },
  "kernelspec": {
   "display_name": "Python 3",
   "language": "python",
   "name": "python3"
  },
  "language_info": {
   "codemirror_mode": {
    "name": "ipython",
    "version": 3
   },
   "file_extension": ".py",
   "mimetype": "text/x-python",
   "name": "python",
   "nbconvert_exporter": "python",
   "pygments_lexer": "ipython3",
   "version": "3.7.3"
  }
 },
 "nbformat": 4,
 "nbformat_minor": 2
}
