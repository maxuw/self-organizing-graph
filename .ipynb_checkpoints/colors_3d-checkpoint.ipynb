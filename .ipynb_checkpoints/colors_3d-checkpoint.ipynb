{
 "cells": [
  {
   "cell_type": "code",
   "execution_count": 1,
   "metadata": {},
   "outputs": [],
   "source": [
    "import torch\n",
    "import torch.utils.data"
   ]
  },
  {
   "cell_type": "code",
   "execution_count": 2,
   "metadata": {},
   "outputs": [],
   "source": [
    "import numpy as np\n",
    "import matplotlib.pyplot as plt"
   ]
  },
  {
   "cell_type": "code",
   "execution_count": 3,
   "metadata": {},
   "outputs": [],
   "source": [
    "from map_class import MapClass"
   ]
  },
  {
   "cell_type": "code",
   "execution_count": 4,
   "metadata": {},
   "outputs": [],
   "source": [
    "#Training inputs for RGBcolors\n",
    "rgb_colors = [[0., 0., 0.],\n",
    "      [0., 0., 1.],\n",
    "      [0., 0., 0.5],\n",
    "      [0.125, 0.529, 1.0],\n",
    "      [0.33, 0.4, 0.67],\n",
    "      [0.6, 0.5, 1.0],\n",
    "      [0., 1., 0.],\n",
    "      [1., 0., 0.],\n",
    "      [0., 1., 1.],\n",
    "      [1., 0., 1.],\n",
    "      [1., 1., 0.],\n",
    "      [1., 1., 1.],\n",
    "      [.33, .33, .33],\n",
    "      [.5, .5, .5],\n",
    "      [.66, .66, .66]]"
   ]
  },
  {
   "cell_type": "code",
   "execution_count": 5,
   "metadata": {},
   "outputs": [],
   "source": [
    "color_names = \\\n",
    "    ['black', 'blue', 'darkblue', 'skyblue',\n",
    "     'greyblue', 'lilac', 'green', 'red',\n",
    "     'cyan', 'violet', 'yellow', 'white',\n",
    "     'darkgrey', 'mediumgrey', 'lightgrey']"
   ]
  },
  {
   "cell_type": "code",
   "execution_count": null,
   "metadata": {},
   "outputs": [],
   "source": []
  },
  {
   "cell_type": "code",
   "execution_count": 20,
   "metadata": {},
   "outputs": [],
   "source": [
    "amount_vertecies = 25\n",
    "matrix_graph_weights = torch.zeros(amount_vertecies, amount_vertecies)\n",
    "for i in range(amount_vertecies):\n",
    "    tensor_vertecies[i][i] = 1"
   ]
  },
  {
   "cell_type": "code",
   "execution_count": 7,
   "metadata": {},
   "outputs": [],
   "source": [
    "def add_edge(length, width, weight):\n",
    "    if length < matrix_graph_weights.shape[0] and width < matrix_graph_weights.shape[0]:\n",
    "        matrix_graph_weights[length][width] = weight\n",
    "        matrix_graph_weights[width][length] = weight"
   ]
  },
  {
   "cell_type": "code",
   "execution_count": 8,
   "metadata": {},
   "outputs": [],
   "source": [
    "edges = [[0,1,0.1], [0,4,0.6], [2,3,0.15], [4,5,0.2]]\n",
    "for edge in edges:\n",
    "    add_edge(edge[0], edge[1], edge[2])"
   ]
  },
  {
   "cell_type": "code",
   "execution_count": 25,
   "metadata": {
    "lines_to_next_cell": 0
   },
   "outputs": [],
   "source": [
    "# Network configuration\n",
    "\n",
    "data = rgb_colors\n",
    "batch_size = 4\n",
    "\n",
    "length = 5\n",
    "width = 5\n",
    "number_iterations = 20\n",
    "\n",
    "learning_rate = 1"
   ]
  },
  {
   "cell_type": "code",
   "execution_count": 10,
   "metadata": {},
   "outputs": [],
   "source": [
    "trainloader = \"\"\n",
    "\n",
    "def load_data(data, batch_size=4, shuffle=False):\n",
    "    dim = len(data[0])\n",
    "    number_rows_data = len(data)\n",
    "    \n",
    "    trainloader = torch.utils.data.DataLoader(data, batch_size=batch_size, shuffle=True)\n",
    "    \n",
    "    return trainloader, dim, number_rows_data"
   ]
  },
  {
   "cell_type": "code",
   "execution_count": 11,
   "metadata": {},
   "outputs": [],
   "source": [
    "def large_cycle(map_, training_data):\n",
    "    basic_visualization(map_display(map_.map))\n",
    "    print(map_display(map_.map))\n",
    "    for i in range(number_iterations):\n",
    "        cycle(map_, training_data)\n",
    "    basic_visualization(map_display(map_.map))\n",
    "    print(map_display(map_.map))"
   ]
  },
  {
   "cell_type": "code",
   "execution_count": 12,
   "metadata": {},
   "outputs": [],
   "source": [
    "def large_cycle_rgb(map_, training_data):\n",
    "    visualize_rgb(map_)\n",
    "#     print(map_display(map_.map))\n",
    "    for i in range(number_iterations):\n",
    "        map_.cycle(training_data)\n",
    "    visualize_rgb(map_)\n",
    "#     print(map_display(map_.map))"
   ]
  },
  {
   "cell_type": "code",
   "execution_count": 13,
   "metadata": {},
   "outputs": [],
   "source": [
    "def visualize_rgb(map_):\n",
    "    print(\"trying to visualize map\")\n",
    "    tens_try = map_.weights.view(length, width, 3)\n",
    "    plt.imshow(tens_try)\n",
    "\n",
    "    classification = map_.classify_all(map_.convert_data_tensor(data))\n",
    "    for i in range(len(classification)):\n",
    "        loc_tuple = map_.get_location(classification[i])\n",
    "        plt.text(loc_tuple[1], loc_tuple[0], color_names[i], ha='center', va='center',\n",
    "        bbox=dict(facecolor='white', alpha=0.5, lw=0))\n",
    "\n",
    "# plt.text(0, 1, color_names[1], ha='center', va='center',\n",
    "#          bbox=dict(facecolor='white', alpha=0.5, lw=0))\n",
    "    plt.show()"
   ]
  },
  {
   "cell_type": "code",
   "execution_count": null,
   "metadata": {},
   "outputs": [],
   "source": []
  },
  {
   "cell_type": "code",
   "execution_count": 26,
   "metadata": {},
   "outputs": [],
   "source": [
    "training, dim, number_rows_data = load_data(data)"
   ]
  },
  {
   "cell_type": "code",
   "execution_count": 27,
   "metadata": {},
   "outputs": [],
   "source": [
    "map1 = MapClass(length, width, dim, learning_rate, number_iterations, matrix_graph_weights)"
   ]
  },
  {
   "cell_type": "code",
   "execution_count": 28,
   "metadata": {},
   "outputs": [
    {
     "name": "stdout",
     "output_type": "stream",
     "text": [
      "trying to visualize map\n"
     ]
    },
    {
     "data": {
      "image/png": "[encoded data removed]",
      "text/plain": [
       "<Figure size 900x600 with 1 Axes>"
      ]
     },
     "metadata": {
      "needs_background": "light"
     },
     "output_type": "display_data"
    },
    {
     "name": "stdout",
     "output_type": "stream",
     "text": [
      "trying to visualize map\n"
     ]
    },
    {
     "data": {
      "image/png": "[encoded data removed]",
      "text/plain": [
       "<Figure size 900x600 with 1 Axes>"
      ]
     },
     "metadata": {
      "needs_background": "light"
     },
     "output_type": "display_data"
    }
   ],
   "source": [
    "plt.rcParams['figure.dpi'] = 150\n",
    "large_cycle_rgb(map1, training)"
   ]
  },
  {
   "cell_type": "code",
   "execution_count": 29,
   "metadata": {},
   "outputs": [
    {
     "data": {
      "text/plain": [
       "tensor([[0.8968, 0.3734, 0.1935],\n",
       "        [0.8886, 0.8979, 0.0916],\n",
       "        [0.3580, 0.3083, 0.4442],\n",
       "        [0.4438, 0.9012, 0.4019],\n",
       "        [0.9743, 0.4596, 0.6394],\n",
       "        [0.6644, 0.4271, 0.9479],\n",
       "        [0.4094, 0.4495, 0.8580],\n",
       "        [0.8753, 0.4768, 0.4807],\n",
       "        [0.7472, 0.9206, 0.2855],\n",
       "        [0.5417, 0.7332, 0.1577],\n",
       "        [0.3302, 0.5077, 0.1525],\n",
       "        [0.8885, 0.5242, 0.7886],\n",
       "        [0.0324, 0.5438, 0.2327],\n",
       "        [0.6943, 0.3243, 0.2664],\n",
       "        [0.8556, 0.1617, 0.2750],\n",
       "        [0.7826, 0.2054, 0.7955],\n",
       "        [0.3414, 0.4119, 0.7347],\n",
       "        [0.4416, 0.3728, 0.6174],\n",
       "        [0.9135, 0.4276, 0.6987],\n",
       "        [0.2744, 0.1235, 0.7006],\n",
       "        [0.3817, 0.8026, 0.3423],\n",
       "        [0.4908, 0.5805, 0.0447],\n",
       "        [0.4994, 0.4631, 0.6122],\n",
       "        [0.1277, 0.2115, 0.3683],\n",
       "        [0.7920, 0.4074, 0.2879]])"
      ]
     },
     "execution_count": 29,
     "metadata": {},
     "output_type": "execute_result"
    }
   ],
   "source": [
    "map1.weights"
   ]
  },
  {
   "cell_type": "code",
   "execution_count": 31,
   "metadata": {},
   "outputs": [
    {
     "data": {
      "text/plain": [
       "tensor([[0.8968, 0.3734, 0.1935],\n",
       "        [0.8886, 0.8979, 0.0916],\n",
       "        [0.3580, 0.3083, 0.4442],\n",
       "        [0.4438, 0.9012, 0.4019],\n",
       "        [0.9743, 0.4596, 0.6394],\n",
       "        [0.6644, 0.4271, 0.9479],\n",
       "        [0.4094, 0.4495, 0.8580],\n",
       "        [0.8753, 0.4768, 0.4807],\n",
       "        [0.7472, 0.9206, 0.2855],\n",
       "        [0.5417, 0.7332, 0.1577],\n",
       "        [0.3302, 0.5077, 0.1525],\n",
       "        [0.8885, 0.5242, 0.7886],\n",
       "        [0.0324, 0.5438, 0.2327],\n",
       "        [0.6943, 0.3243, 0.2664],\n",
       "        [0.8556, 0.1617, 0.2750],\n",
       "        [0.7826, 0.2054, 0.7955],\n",
       "        [0.3414, 0.4119, 0.7347],\n",
       "        [0.4416, 0.3728, 0.6174],\n",
       "        [0.9135, 0.4276, 0.6987],\n",
       "        [0.2744, 0.1235, 0.7006],\n",
       "        [0.3817, 0.8026, 0.3423],\n",
       "        [0.4908, 0.5805, 0.0447],\n",
       "        [0.4994, 0.4631, 0.6122],\n",
       "        [0.1277, 0.2115, 0.3683],\n",
       "        [0.7920, 0.4074, 0.2879]])"
      ]
     },
     "execution_count": 31,
     "metadata": {},
     "output_type": "execute_result"
    }
   ],
   "source": [
    "map1.weights"
   ]
  },
  {
   "cell_type": "code",
   "execution_count": 30,
   "metadata": {},
   "outputs": [],
   "source": [
    "map1.cycle(training)"
   ]
  },
  {
   "cell_type": "code",
   "execution_count": null,
   "metadata": {},
   "outputs": [],
   "source": [
    "map1.distance_matrix"
   ]
  },
  {
   "cell_type": "code",
   "execution_count": null,
   "metadata": {},
   "outputs": [],
   "source": [
    "map1.impact_matrix"
   ]
  },
  {
   "cell_type": "code",
   "execution_count": null,
   "metadata": {},
   "outputs": [],
   "source": []
  },
  {
   "cell_type": "code",
   "execution_count": null,
   "metadata": {},
   "outputs": [],
   "source": [
    "visualize_rgb(map1.weights)"
   ]
  },
  {
   "cell_type": "code",
   "execution_count": null,
   "metadata": {},
   "outputs": [],
   "source": [
    "\n",
    "classification"
   ]
  },
  {
   "cell_type": "code",
   "execution_count": null,
   "metadata": {},
   "outputs": [],
   "source": [
    "\n",
    "    \n",
    "    "
   ]
  },
  {
   "cell_type": "code",
   "execution_count": null,
   "metadata": {},
   "outputs": [],
   "source": [
    "tens_try = map1.weights.view(length, width, 3)\n",
    "plt.imshow(tens_try)\n",
    "\n",
    "classification = map1.classify_all(map1.convert_data_tensor(data))\n",
    "for i in range(len(classification)):\n",
    "    loc_tuple = map1.get_location(classification[i])\n",
    "    plt.text(loc_tuple[1], loc_tuple[0], color_names[i], ha='center', va='center',\n",
    "         bbox=dict(facecolor='white', alpha=0.5, lw=0))\n",
    "z\n",
    "# plt.text(0, 1, color_names[1], ha='center', va='center',\n",
    "#          bbox=dict(facecolor='white', alpha=0.5, lw=0))\n",
    "plt.show()"
   ]
  },
  {
   "cell_type": "code",
   "execution_count": null,
   "metadata": {},
   "outputs": [],
   "source": [
    "visualize_rgb(map1)"
   ]
  },
  {
   "cell_type": "code",
   "execution_count": null,
   "metadata": {},
   "outputs": [],
   "source": []
  }
 ],
 "metadata": {
  "jupytext": {
   "formats": "ipynb,py:light"
  },
  "kernelspec": {
   "display_name": "Python 3",
   "language": "python",
   "name": "python3"
  },
  "language_info": {
   "codemirror_mode": {
    "name": "ipython",
    "version": 3
   },
   "file_extension": ".py",
   "mimetype": "text/x-python",
   "name": "python",
   "nbconvert_exporter": "python",
   "pygments_lexer": "ipython3",
   "version": "3.7.3"
  }
 },
 "nbformat": 4,
 "nbformat_minor": 2
}
