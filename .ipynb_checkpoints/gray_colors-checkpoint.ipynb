{
 "cells": [
  {
   "cell_type": "code",
   "execution_count": 1,
   "metadata": {},
   "outputs": [],
   "source": [
    "import torch\n",
    "import torch.utils.data"
   ]
  },
  {
   "cell_type": "code",
   "execution_count": 2,
   "metadata": {},
   "outputs": [],
   "source": [
    "import numpy as np\n",
    "import matplotlib.pyplot as plt"
   ]
  },
  {
   "cell_type": "code",
   "execution_count": 3,
   "metadata": {},
   "outputs": [],
   "source": [
    "from map_class import MapClass"
   ]
  },
  {
   "cell_type": "code",
   "execution_count": null,
   "metadata": {},
   "outputs": [],
   "source": []
  },
  {
   "cell_type": "code",
   "execution_count": 5,
   "metadata": {},
   "outputs": [],
   "source": [
    "#gray colors data\n",
    "gray_colors = [[0.1], [0.], [1.], [0.125], [0.529], [1.0], [0.33], [0.4], [0.67], [.33], [.5]]\n",
    "#     torch.rand((10))"
   ]
  },
  {
   "cell_type": "code",
   "execution_count": 19,
   "metadata": {
    "lines_to_next_cell": 0
   },
   "outputs": [],
   "source": [
    "# Network configuration\n",
    "\n",
    "data = building_sizes\n",
    "batch_size = 4\n",
    "\n",
    "length = 4\n",
    "width = 3\n",
    "number_iterations = 100\n",
    "\n",
    "move_closer_coef = 0.5\n",
    "iterations = 100"
   ]
  },
  {
   "cell_type": "code",
   "execution_count": 7,
   "metadata": {},
   "outputs": [],
   "source": [
    "trainloader = \"\"\n",
    "\n",
    "def load_data(data, batch_size=4, shuffle=False):\n",
    "    dim = len(data[0])\n",
    "    number_rows_data = len(data)\n",
    "    \n",
    "    trainloader = torch.utils.data.DataLoader(data, batch_size=batch_size, shuffle=True)\n",
    "    \n",
    "    return trainloader, dim, number_rows_data"
   ]
  },
  {
   "cell_type": "code",
   "execution_count": 8,
   "metadata": {},
   "outputs": [],
   "source": [
    "def large_cycle(map_, training_data):\n",
    "    basic_visualization(map_display(map_.map))\n",
    "    print(map_display(map_.map))\n",
    "    for i in range(number_iterations):\n",
    "        cycle(map_, training_data)\n",
    "    basic_visualization(map_display(map_.map))\n",
    "    print(map_display(map_.map))"
   ]
  },
  {
   "cell_type": "code",
   "execution_count": null,
   "metadata": {},
   "outputs": [],
   "source": []
  },
  {
   "cell_type": "code",
   "execution_count": 12,
   "metadata": {},
   "outputs": [],
   "source": [
    "training, dim, number_rows_data = load_data(data)"
   ]
  },
  {
   "cell_type": "code",
   "execution_count": 13,
   "metadata": {},
   "outputs": [],
   "source": [
    "map1 = MapClass(length, width, dim, move_closer_coef, number_iterations)"
   ]
  },
  {
   "cell_type": "code",
   "execution_count": 14,
   "metadata": {},
   "outputs": [
    {
     "data": {
      "text/plain": [
       "tensor([[0.2399, 0.8998, 0.0153, 0.5860, 0.2475, 0.7039, 0.9229, 0.8051, 0.8990,\n",
       "         0.0338],\n",
       "        [0.7448, 0.0188, 0.2860, 0.1686, 0.5746, 0.1055, 0.3355, 0.7640, 0.8122,\n",
       "         0.7614],\n",
       "        [0.8624, 0.4648, 0.0676, 0.9469, 0.0460, 0.8691, 0.2614, 0.6939, 0.3960,\n",
       "         0.7241],\n",
       "        [0.0176, 0.8703, 0.8272, 0.8986, 0.4768, 0.6588, 0.1374, 0.1417, 0.0398,\n",
       "         0.4806],\n",
       "        [0.0743, 0.3236, 0.1762, 0.5397, 0.0672, 0.7208, 0.4585, 0.0145, 0.5036,\n",
       "         0.1643],\n",
       "        [0.6540, 0.0533, 0.0673, 0.7432, 0.9511, 0.8442, 0.8916, 0.3374, 0.6129,\n",
       "         0.3387],\n",
       "        [0.6851, 0.9062, 0.0412, 0.2936, 0.0796, 0.5429, 0.9718, 0.7510, 0.9929,\n",
       "         0.6877],\n",
       "        [0.8837, 0.6686, 0.4485, 0.8393, 0.3533, 0.8616, 0.8138, 0.9283, 0.5011,\n",
       "         0.3644],\n",
       "        [0.3728, 0.0243, 0.3186, 0.1810, 0.7784, 0.6409, 0.9392, 0.7257, 0.8013,\n",
       "         0.6968],\n",
       "        [0.6989, 0.3894, 0.7498, 0.6240, 0.4104, 0.4695, 0.8435, 0.4716, 0.2422,\n",
       "         0.8428]])"
      ]
     },
     "execution_count": 14,
     "metadata": {},
     "output_type": "execute_result"
    }
   ],
   "source": [
    "map1.weights_to_map()"
   ]
  },
  {
   "cell_type": "code",
   "execution_count": 15,
   "metadata": {},
   "outputs": [
    {
     "name": "stdout",
     "output_type": "stream",
     "text": [
      "row of data tensor([0.])\n",
      "tensor([47])\n"
     ]
    },
    {
     "data": {
      "image/png": "[encoded data removed]",
      "text/plain": [
       "<Figure size 432x288 with 2 Axes>"
      ]
     },
     "metadata": {
      "needs_background": "light"
     },
     "output_type": "display_data"
    },
    {
     "name": "stdout",
     "output_type": "stream",
     "text": [
      "tensor([[0.2398, 0.8994, 0.0153, 0.5846, 0.2464, 0.6987, 0.9138, 0.7963, 0.8901,\n",
      "         0.0335],\n",
      "        [0.7447, 0.0188, 0.2855, 0.1678, 0.5695, 0.1039, 0.3286, 0.7465, 0.7955,\n",
      "         0.7500],\n",
      "        [0.8621, 0.4643, 0.0674, 0.9399, 0.0453, 0.8467, 0.2517, 0.6645, 0.3813,\n",
      "         0.7054],\n",
      "        [0.0176, 0.8690, 0.8238, 0.8897, 0.4670, 0.6344, 0.1296, 0.1319, 0.0375,\n",
      "         0.4628],\n",
      "        [0.0742, 0.3230, 0.1754, 0.5338, 0.0657, 0.6903, 0.4269, 0.0130, 0.4689,\n",
      "         0.1573],\n",
      "        [0.6536, 0.0532, 0.0670, 0.7358, 0.9315, 0.8129, 0.8407, 0.3141, 0.5779,\n",
      "         0.3261],\n",
      "        [0.6848, 0.9052, 0.0411, 0.2914, 0.0784, 0.5289, 0.9357, 0.7192, 0.9560,\n",
      "         0.6699],\n",
      "        [0.8835, 0.6681, 0.4477, 0.8355, 0.3502, 0.8487, 0.7971, 0.9070, 0.4908,\n",
      "         0.3589],\n",
      "        [0.3728, 0.0243, 0.3183, 0.1805, 0.7749, 0.6362, 0.9299, 0.7177, 0.7933,\n",
      "         0.6916],\n",
      "        [0.6989, 0.3894, 0.7495, 0.6233, 0.4096, 0.4680, 0.8400, 0.4694, 0.2412,\n",
      "         0.8402]])\n"
     ]
    }
   ],
   "source": [
    "map1.step(training, verbose=True)"
   ]
  },
  {
   "cell_type": "code",
   "execution_count": 18,
   "metadata": {},
   "outputs": [
    {
     "name": "stdout",
     "output_type": "stream",
     "text": [
      "tensor([63])\n",
      "tensor([43])\n",
      "tensor([34])\n",
      "tensor([81])\n",
      "tensor([67])\n",
      "tensor([9])\n",
      "tensor([2])\n",
      "tensor([79])\n",
      "tensor([86])\n",
      "tensor([86])\n",
      "tensor([98])\n"
     ]
    },
    {
     "data": {
      "image/png": "[encoded data removed]",
      "text/plain": [
       "<Figure size 432x288 with 2 Axes>"
      ]
     },
     "metadata": {
      "needs_background": "light"
     },
     "output_type": "display_data"
    }
   ],
   "source": [
    "map1.cycle(training, verbose=True)"
   ]
  },
  {
   "cell_type": "code",
   "execution_count": null,
   "metadata": {},
   "outputs": [],
   "source": [
    "map1.classify_all(map1.convert_data_tensor(data))\n"
   ]
  },
  {
   "cell_type": "code",
   "execution_count": null,
   "metadata": {},
   "outputs": [],
   "source": [
    "map1.convert_data_tensor(data)"
   ]
  },
  {
   "cell_type": "code",
   "execution_count": null,
   "metadata": {},
   "outputs": [],
   "source": []
  }
 ],
 "metadata": {
  "jupytext": {
   "formats": "ipynb,py:light"
  },
  "kernelspec": {
   "display_name": "Python 3",
   "language": "python",
   "name": "python3"
  },
  "language_info": {
   "codemirror_mode": {
    "name": "ipython",
    "version": 3
   },
   "file_extension": ".py",
   "mimetype": "text/x-python",
   "name": "python",
   "nbconvert_exporter": "python",
   "pygments_lexer": "ipython3",
   "version": "3.7.3"
  }
 },
 "nbformat": 4,
 "nbformat_minor": 2
}
