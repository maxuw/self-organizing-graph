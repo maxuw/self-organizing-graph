{
 "cells": [
  {
   "cell_type": "code",
   "execution_count": 1,
   "metadata": {},
   "outputs": [],
   "source": [
    "import torch\n",
    "import torch.utils.data"
   ]
  },
  {
   "cell_type": "code",
   "execution_count": 2,
   "metadata": {},
   "outputs": [],
   "source": [
    "import numpy as np\n",
    "import matplotlib.pyplot as plt"
   ]
  },
  {
   "cell_type": "code",
   "execution_count": 3,
   "metadata": {},
   "outputs": [],
   "source": [
    "from map_class import MapClass"
   ]
  },
  {
   "cell_type": "code",
   "execution_count": null,
   "metadata": {},
   "outputs": [],
   "source": []
  },
  {
   "cell_type": "code",
   "execution_count": 4,
   "metadata": {},
   "outputs": [],
   "source": [
    "#buildings data\n",
    "building_sizes = [[0.1, 0.3], [0.1, 0.2], [1., 1.], [0.125, 0.2], [0.529, 0.12], [1.0, 0.3], [0.33, 0.3], \n",
    "                  [0.4, 0.4], [0.67, 0.3], [.33, 0.7], [.5, 0.1]]\n",
    "#     torch.rand((10))"
   ]
  },
  {
   "cell_type": "code",
   "execution_count": 5,
   "metadata": {},
   "outputs": [],
   "source": [
    "#gray colors data\n",
    "gray_colors = [[0.1], [0.], [1.], [0.125], [0.529], [1.0], [0.33], [0.4], [0.67], [.33], [.5]]\n",
    "#     torch.rand((10))"
   ]
  },
  {
   "cell_type": "code",
   "execution_count": 6,
   "metadata": {
    "lines_to_next_cell": 0
   },
   "outputs": [],
   "source": [
    "# Network configuration\n",
    "\n",
    "data = building_sizes\n",
    "batch_size = 4\n",
    "\n",
    "length = 4\n",
    "width = 3\n",
    "number_iterations = 100\n",
    "\n",
    "move_closer_coef = 0.5\n",
    "iterations = 100"
   ]
  },
  {
   "cell_type": "code",
   "execution_count": 7,
   "metadata": {},
   "outputs": [],
   "source": [
    "def basic_visualization(map_):\n",
    "    plt.imshow(map_);\n",
    "    plt.colorbar()\n",
    "    plt.show()"
   ]
  },
  {
   "cell_type": "code",
   "execution_count": 8,
   "metadata": {},
   "outputs": [],
   "source": [
    "trainloader = \"\"\n",
    "\n",
    "def load_data(data, batch_size=4, shuffle=False):\n",
    "    global dim\n",
    "    dim = len(data[0])\n",
    "    \n",
    "    trainloader = torch.utils.data.DataLoader(data, batch_size=batch_size, shuffle=True)\n",
    "    \n",
    "    return trainloader"
   ]
  },
  {
   "cell_type": "code",
   "execution_count": 9,
   "metadata": {},
   "outputs": [],
   "source": [
    "def map_view_for_coding(map_):\n",
    "    return torch.transpose(map_, 0, 1).view(dim, length, width)\n",
    "#     return map_.view(dim, length, width)"
   ]
  },
  {
   "cell_type": "code",
   "execution_count": 10,
   "metadata": {},
   "outputs": [],
   "source": [
    "def map_display(map_):\n",
    "#     return torch.transpose(map_, 0, 1).view(dim, length, width)\n",
    "    if dim == 1:\n",
    "        return map_.view(length, width)\n",
    "    else:\n",
    "        return map_.view(dim, length, width)"
   ]
  },
  {
   "cell_type": "code",
   "execution_count": 11,
   "metadata": {},
   "outputs": [],
   "source": [
    "def cycle(map_, training_data, display_step=False):\n",
    "    for batch in training_data:\n",
    "#         type(batch)\n",
    "#         print(batch)\n",
    "        for row in batch[0]:\n",
    "#             type(row)\n",
    "#             print(row)\n",
    "            i_bmu = map_.find_bmu(row).item()\n",
    "            map_.move_closer(i_bmu, row)\n",
    "        \n",
    "#     print(map_view(map_.map))\n",
    "    if display_step == True:\n",
    "        basic_visualization(map_display(map_.map))\n",
    "        print(map_display(map_.map))\n",
    "        \n",
    "        \n",
    "\n",
    "        "
   ]
  },
  {
   "cell_type": "code",
   "execution_count": 12,
   "metadata": {},
   "outputs": [],
   "source": [
    "def large_cycle(map_, training_data):\n",
    "    basic_visualization(map_display(map_.map))\n",
    "    print(map_display(map_.map))\n",
    "    for i in range(number_iterations):\n",
    "        cycle(map_, training_data)\n",
    "    basic_visualization(map_display(map_.map))\n",
    "    print(map_display(map_.map))"
   ]
  },
  {
   "cell_type": "code",
   "execution_count": 31,
   "metadata": {},
   "outputs": [
    {
     "name": "stdout",
     "output_type": "stream",
     "text": [
      "tensor([0.3300, 0.7000])\n",
      "tensor([0.1000, 0.2000])\n",
      "tensor([0.1000, 0.3000])\n",
      "tensor([0.4000, 0.4000])\n",
      "tensor([0.1250, 0.2000])\n",
      "tensor([1., 1.])\n",
      "tensor([0.5290, 0.1200])\n",
      "tensor([0.6700, 0.3000])\n",
      "tensor([0.3300, 0.3000])\n",
      "tensor([0.5000, 0.1000])\n",
      "tensor([1.0000, 0.3000])\n"
     ]
    }
   ],
   "source": [
    "cycle(map1, training)"
   ]
  },
  {
   "cell_type": "code",
   "execution_count": 32,
   "metadata": {},
   "outputs": [
    {
     "name": "stdout",
     "output_type": "stream",
     "text": [
      "tensor([0.5290, 0.1200])\n",
      "tensor([1., 1.])\n",
      "tensor([1.0000, 0.3000])\n",
      "tensor([0.3300, 0.7000])\n",
      "tensor([0.1000, 0.3000])\n",
      "tensor([0.5000, 0.1000])\n",
      "tensor([0.6700, 0.3000])\n",
      "tensor([0.1000, 0.2000])\n",
      "tensor([0.1250, 0.2000])\n",
      "tensor([0.4000, 0.4000])\n",
      "tensor([0.3300, 0.3000])\n"
     ]
    }
   ],
   "source": [
    "cycle(map1, training)"
   ]
  },
  {
   "cell_type": "code",
   "execution_count": 13,
   "metadata": {},
   "outputs": [],
   "source": [
    "training = load_data(data)"
   ]
  },
  {
   "cell_type": "code",
   "execution_count": 28,
   "metadata": {},
   "outputs": [],
   "source": [
    "def cycle(map_, training_data, display_step=False):\n",
    "\n",
    "    for batch in training_data:\n",
    "\n",
    "        t_batch = torch.stack([x for x in batch]).float().t()\n",
    "\n",
    "        for row in t_batch:\n",
    "\n",
    "            print(row)\n",
    "\n",
    "            i_bmu = map_.find_bmu(row).item()\n",
    "\n",
    "            map_.move_closer(i_bmu, row)\n",
    "            \n",
    "    if display_step == True:\n",
    "        basic_visualization(map_display(map_.map))\n",
    "        print(map_display(map_.map))"
   ]
  },
  {
   "cell_type": "code",
   "execution_count": 27,
   "metadata": {},
   "outputs": [
    {
     "name": "stdout",
     "output_type": "stream",
     "text": [
      "tensor([[1.0000, 0.3000],\n",
      "        [0.1000, 0.3000],\n",
      "        [0.1250, 0.2000],\n",
      "        [0.5000, 0.1000]]) \n",
      "\n",
      "\n",
      "tensor([[0.3300, 0.3000],\n",
      "        [1.0000, 1.0000],\n",
      "        [0.1000, 0.2000],\n",
      "        [0.3300, 0.7000]]) \n",
      "\n",
      "\n",
      "tensor([[0.6700, 0.3000],\n",
      "        [0.5290, 0.1200],\n",
      "        [0.4000, 0.4000]]) \n",
      "\n",
      "\n"
     ]
    }
   ],
   "source": [
    "for train in training:\n",
    "    t_batch = torch.stack([x for x in train]).float().t()\n",
    "    print(t_batch, \"\\n\\n\")\n",
    "    \n",
    "#     for tr in train:\n",
    "#         print(tr, \"\\n\")"
   ]
  },
  {
   "cell_type": "code",
   "execution_count": null,
   "metadata": {},
   "outputs": [],
   "source": [
    "def cycle(map_, training_data, display_step=False):\n",
    "\n",
    "    for batch in training_data:\n",
    "\n",
    "        t_batch = torch.stack([x for x in batch]).float().t()\n",
    "\n",
    "        for row in t_batch:\n",
    "\n",
    "            print(row)\n",
    "\n",
    "            i_bmu = map_.find_bmu(row).item()\n",
    "\n",
    "            map_.move_closer(i_bmu, row)"
   ]
  },
  {
   "cell_type": "code",
   "execution_count": 20,
   "metadata": {},
   "outputs": [
    {
     "name": "stdout",
     "output_type": "stream",
     "text": [
      "0 0\n",
      "0 1\n",
      "0 2\n",
      "1 0\n",
      "1 1\n",
      "1 2\n",
      "2 0\n",
      "2 1\n",
      "2 2\n",
      "3 0\n",
      "3 1\n",
      "3 2\n"
     ]
    }
   ],
   "source": [
    "map1 = MapClass(length, width, dim, move_closer_coef)"
   ]
  },
  {
   "cell_type": "code",
   "execution_count": 21,
   "metadata": {},
   "outputs": [
    {
     "data": {
      "text/plain": [
       "tensor([[0.9853, 0.7931],\n",
       "        [0.5441, 0.4015],\n",
       "        [0.8583, 0.4176],\n",
       "        [0.7441, 0.9127],\n",
       "        [0.5832, 0.6477],\n",
       "        [0.3063, 0.8479],\n",
       "        [0.4192, 0.5827],\n",
       "        [0.5258, 0.0045],\n",
       "        [0.3130, 0.3792],\n",
       "        [0.3000, 0.2451],\n",
       "        [0.9099, 0.8446],\n",
       "        [0.6942, 0.2326]])"
      ]
     },
     "execution_count": 21,
     "metadata": {},
     "output_type": "execute_result"
    }
   ],
   "source": [
    "map1.map"
   ]
  },
  {
   "cell_type": "code",
   "execution_count": null,
   "metadata": {},
   "outputs": [],
   "source": []
  },
  {
   "cell_type": "code",
   "execution_count": 22,
   "metadata": {},
   "outputs": [
    {
     "data": {
      "text/plain": [
       "tensor([[0.0000, 1.0000, 2.0000, 1.0000, 1.4142, 2.2361, 2.0000, 2.2361, 2.8284,\n",
       "         3.0000, 3.1623, 3.6056],\n",
       "        [1.0000, 0.0000, 1.0000, 1.4142, 1.0000, 1.4142, 2.2361, 2.0000, 2.2361,\n",
       "         3.1623, 3.0000, 3.1623],\n",
       "        [2.0000, 1.0000, 0.0000, 2.2361, 1.4142, 1.0000, 2.8284, 2.2361, 2.0000,\n",
       "         3.6056, 3.1623, 3.0000],\n",
       "        [1.0000, 1.4142, 2.2361, 0.0000, 1.0000, 2.0000, 1.0000, 1.4142, 2.2361,\n",
       "         2.0000, 2.2361, 2.8284],\n",
       "        [1.4142, 1.0000, 1.4142, 1.0000, 0.0000, 1.0000, 1.4142, 1.0000, 1.4142,\n",
       "         2.2361, 2.0000, 2.2361],\n",
       "        [2.2361, 1.4142, 1.0000, 2.0000, 1.0000, 0.0000, 2.2361, 1.4142, 1.0000,\n",
       "         2.8284, 2.2361, 2.0000],\n",
       "        [2.0000, 2.2361, 2.8284, 1.0000, 1.4142, 2.2361, 0.0000, 1.0000, 2.0000,\n",
       "         1.0000, 1.4142, 2.2361],\n",
       "        [2.2361, 2.0000, 2.2361, 1.4142, 1.0000, 1.4142, 1.0000, 0.0000, 1.0000,\n",
       "         1.4142, 1.0000, 1.4142],\n",
       "        [2.8284, 2.2361, 2.0000, 2.2361, 1.4142, 1.0000, 2.0000, 1.0000, 0.0000,\n",
       "         2.2361, 1.4142, 1.0000],\n",
       "        [3.0000, 3.1623, 3.6056, 2.0000, 2.2361, 2.8284, 1.0000, 1.4142, 2.2361,\n",
       "         0.0000, 1.0000, 2.0000],\n",
       "        [3.1623, 3.0000, 3.1623, 2.2361, 2.0000, 2.2361, 1.4142, 1.0000, 1.4142,\n",
       "         1.0000, 0.0000, 1.0000],\n",
       "        [3.6056, 3.1623, 3.0000, 2.8284, 2.2361, 2.0000, 2.2361, 1.4142, 1.0000,\n",
       "         2.0000, 1.0000, 0.0000]])"
      ]
     },
     "execution_count": 22,
     "metadata": {},
     "output_type": "execute_result"
    }
   ],
   "source": [
    "map1.distance_matrix"
   ]
  },
  {
   "cell_type": "code",
   "execution_count": 23,
   "metadata": {},
   "outputs": [
    {
     "data": {
      "text/plain": [
       "tensor([[1.0000, 0.6892, 0.4237, 0.6892, 0.5716, 0.3711, 0.4237, 0.3711, 0.2579,\n",
       "         0.2301, 0.2059, 0.1492],\n",
       "        [0.6892, 1.0000, 0.6892, 0.5716, 0.6892, 0.5716, 0.3711, 0.4237, 0.3711,\n",
       "         0.2059, 0.2301, 0.2059],\n",
       "        [0.4237, 0.6892, 1.0000, 0.3711, 0.5716, 0.6892, 0.2579, 0.3711, 0.4237,\n",
       "         0.1492, 0.2059, 0.2301],\n",
       "        [0.6892, 0.5716, 0.3711, 1.0000, 0.6892, 0.4237, 0.6892, 0.5716, 0.3711,\n",
       "         0.4237, 0.3711, 0.2579],\n",
       "        [0.5716, 0.6892, 0.5716, 0.6892, 1.0000, 0.6892, 0.5716, 0.6892, 0.5716,\n",
       "         0.3711, 0.4237, 0.3711],\n",
       "        [0.3711, 0.5716, 0.6892, 0.4237, 0.6892, 1.0000, 0.3711, 0.5716, 0.6892,\n",
       "         0.2579, 0.3711, 0.4237],\n",
       "        [0.4237, 0.3711, 0.2579, 0.6892, 0.5716, 0.3711, 1.0000, 0.6892, 0.4237,\n",
       "         0.6892, 0.5716, 0.3711],\n",
       "        [0.3711, 0.4237, 0.3711, 0.5716, 0.6892, 0.5716, 0.6892, 1.0000, 0.6892,\n",
       "         0.5716, 0.6892, 0.5716],\n",
       "        [0.2579, 0.3711, 0.4237, 0.3711, 0.5716, 0.6892, 0.4237, 0.6892, 1.0000,\n",
       "         0.3711, 0.5716, 0.6892],\n",
       "        [0.2301, 0.2059, 0.1492, 0.4237, 0.3711, 0.2579, 0.6892, 0.5716, 0.3711,\n",
       "         1.0000, 0.6892, 0.4237],\n",
       "        [0.2059, 0.2301, 0.2059, 0.3711, 0.4237, 0.3711, 0.5716, 0.6892, 0.5716,\n",
       "         0.6892, 1.0000, 0.6892],\n",
       "        [0.1492, 0.2059, 0.2301, 0.2579, 0.3711, 0.4237, 0.3711, 0.5716, 0.6892,\n",
       "         0.4237, 0.6892, 1.0000]])"
      ]
     },
     "execution_count": 23,
     "metadata": {},
     "output_type": "execute_result"
    }
   ],
   "source": [
    "map1.impact_matrix"
   ]
  },
  {
   "cell_type": "code",
   "execution_count": 24,
   "metadata": {},
   "outputs": [
    {
     "data": {
      "image/png": "[encoded data removed]",
      "text/plain": [
       "<Figure size 432x288 with 2 Axes>"
      ]
     },
     "metadata": {
      "needs_background": "light"
     },
     "output_type": "display_data"
    }
   ],
   "source": [
    "basic_visualization(map1.map)"
   ]
  },
  {
   "cell_type": "code",
   "execution_count": null,
   "metadata": {},
   "outputs": [],
   "source": []
  }
 ],
 "metadata": {
  "jupytext": {
   "formats": "ipynb,py:light"
  },
  "kernelspec": {
   "display_name": "Python 3",
   "language": "python",
   "name": "python3"
  },
  "language_info": {
   "codemirror_mode": {
    "name": "ipython",
    "version": 3
   },
   "file_extension": ".py",
   "mimetype": "text/x-python",
   "name": "python",
   "nbconvert_exporter": "python",
   "pygments_lexer": "ipython3",
   "version": "3.7.3"
  }
 },
 "nbformat": 4,
 "nbformat_minor": 2
}
