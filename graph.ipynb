{
 "cells": [
  {
   "cell_type": "code",
   "execution_count": 1,
   "metadata": {},
   "outputs": [],
   "source": [
    "# implementation of an undirected graph using Adjacency Lists\n",
    "class Vertex:\n",
    "\tdef __init__(self, n):\n",
    "\t\tself.name = n\n",
    "\t\tself.neighbors = list()\n",
    "\t\n",
    "\tdef add_neighbor(self, v):\n",
    "\t\tif v not in self.neighbors:\n",
    "\t\t\tself.neighbors.append(v)\n",
    "\t\t\tself.neighbors.sort()"
   ]
  },
  {
   "cell_type": "code",
   "execution_count": 2,
   "metadata": {},
   "outputs": [],
   "source": [
    "class Graph:\n",
    "\tvertices = {}\n",
    "\t\n",
    "\tdef add_vertex(self, vertex):\n",
    "\t\tif isinstance(vertex, Vertex) and vertex.name not in self.vertices:\n",
    "\t\t\tself.vertices[vertex.name] = vertex\n",
    "\t\t\treturn True\n",
    "\t\telse:\n",
    "\t\t\treturn False\n",
    "\t\n",
    "\tdef add_edge(self, u, v):\n",
    "\t\tif u in self.vertices and v in self.vertices:\n",
    "\t\t\t# my YouTube video shows a silly for loop here, but this is a much faster way to do it\n",
    "\t\t\tself.vertices[u].add_neighbor(v)\n",
    "\t\t\tself.vertices[v].add_neighbor(u)\n",
    "\t\t\treturn True\n",
    "\t\telse:\n",
    "\t\t\treturn False\n",
    "\t\t\t\n",
    "\tdef print_graph(self):\n",
    "\t\tfor key in sorted(list(self.vertices.keys())):\n",
    "\t\t\tprint(key + str(self.vertices[key].neighbors))"
   ]
  },
  {
   "cell_type": "code",
   "execution_count": 3,
   "metadata": {},
   "outputs": [],
   "source": [
    "g = Graph()\n",
    "# print(str(len(g.vertices)))\n",
    "a = Vertex('A')\n"
   ]
  },
  {
   "cell_type": "code",
   "execution_count": 4,
   "metadata": {},
   "outputs": [],
   "source": [
    "g.add_vertex(a)\n",
    "g.add_vertex(Vertex('B'))\n",
    "for i in range(ord('A'), ord('K')):\n",
    "\tg.add_vertex(Vertex(chr(i)))\n",
    "\n"
   ]
  },
  {
   "cell_type": "code",
   "execution_count": 5,
   "metadata": {},
   "outputs": [
    {
     "name": "stdout",
     "output_type": "stream",
     "text": [
      "A['B', 'E']\n",
      "B['A', 'F']\n",
      "C['G']\n",
      "D['E', 'H']\n",
      "E['A', 'D', 'H']\n",
      "F['B', 'G', 'I', 'J']\n",
      "G['C', 'F', 'J']\n",
      "H['D', 'E', 'I']\n",
      "I['F', 'H']\n",
      "J['F', 'G']\n"
     ]
    }
   ],
   "source": [
    "\n",
    "edges = ['AB', 'AE', 'BF', 'CG', 'DE', 'DH', 'EH', 'FG', 'FI', 'FJ', 'GJ', 'HI']\n",
    "for edge in edges:\n",
    "\tg.add_edge(edge[:1], edge[1:])\n",
    "\n",
    "g.print_graph()\n",
    "\n",
    "\n"
   ]
  },
  {
   "cell_type": "code",
   "execution_count": null,
   "metadata": {},
   "outputs": [],
   "source": []
  }
 ],
 "metadata": {
  "kernelspec": {
   "display_name": "Python 3",
   "language": "python",
   "name": "python3"
  },
  "language_info": {
   "codemirror_mode": {
    "name": "ipython",
    "version": 3
   },
   "file_extension": ".py",
   "mimetype": "text/x-python",
   "name": "python",
   "nbconvert_exporter": "python",
   "pygments_lexer": "ipython3",
   "version": "3.7.3"
  }
 },
 "nbformat": 4,
 "nbformat_minor": 2
}
